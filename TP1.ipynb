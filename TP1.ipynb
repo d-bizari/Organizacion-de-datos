{
 "cells": [
  {
   "cell_type": "code",
   "execution_count": 89,
   "metadata": {},
   "outputs": [],
   "source": [
    "# importacion general de librerias y de visualizacion (matplotlib y seaborn)\n",
    "import pandas as pd\n",
    "import numpy as np\n",
    "import matplotlib.pyplot as plt\n",
    "import seaborn as sns\n",
    "#!pip install geopandas\n",
    "#!pip install descartes\n",
    "#!conda install -c conda-forge geoplot\n",
    "\n",
    "%config IPCompleter.greedy=True\n",
    "%matplotlib inline\n",
    "\n",
    "plt.style.use('default') # haciendo los graficos un poco mas bonitos en matplotlib\n",
    "#plt.rcParams['figure.figsize'] = (20, 10)\n",
    "\n",
    "sns.set(style=\"whitegrid\") # seteando tipo de grid en seaborn\n",
    "\n",
    "pd.options.display.float_format = '{:20,.2f}'.format # suprimimos la notacion cientifica en los outputs\n",
    "\n",
    "import warnings\n",
    "warnings.filterwarnings('ignore')"
   ]
  },
  {
   "cell_type": "code",
   "execution_count": 90,
   "metadata": {},
   "outputs": [
    {
     "data": {
      "text/html": [
       "<div>\n",
       "<style scoped>\n",
       "    .dataframe tbody tr th:only-of-type {\n",
       "        vertical-align: middle;\n",
       "    }\n",
       "\n",
       "    .dataframe tbody tr th {\n",
       "        vertical-align: top;\n",
       "    }\n",
       "\n",
       "    .dataframe thead th {\n",
       "        text-align: right;\n",
       "    }\n",
       "</style>\n",
       "<table border=\"1\" class=\"dataframe\">\n",
       "  <thead>\n",
       "    <tr style=\"text-align: right;\">\n",
       "      <th></th>\n",
       "      <th>id</th>\n",
       "      <th>keyword</th>\n",
       "      <th>location</th>\n",
       "      <th>text</th>\n",
       "      <th>target</th>\n",
       "    </tr>\n",
       "  </thead>\n",
       "  <tbody>\n",
       "    <tr>\n",
       "      <th>0</th>\n",
       "      <td>1</td>\n",
       "      <td>earthquake</td>\n",
       "      <td>us</td>\n",
       "      <td>Our Deeds are the Reason of this #earthquake M...</td>\n",
       "      <td>1</td>\n",
       "    </tr>\n",
       "    <tr>\n",
       "      <th>1</th>\n",
       "      <td>4</td>\n",
       "      <td>fire</td>\n",
       "      <td>la</td>\n",
       "      <td>Forest fire near La Ronge Sask. Canada</td>\n",
       "      <td>1</td>\n",
       "    </tr>\n",
       "    <tr>\n",
       "      <th>2</th>\n",
       "      <td>5</td>\n",
       "      <td>evacuation</td>\n",
       "      <td>unknown</td>\n",
       "      <td>All residents asked to 'shelter in place' are ...</td>\n",
       "      <td>1</td>\n",
       "    </tr>\n",
       "    <tr>\n",
       "      <th>3</th>\n",
       "      <td>6</td>\n",
       "      <td>evacuation</td>\n",
       "      <td>california</td>\n",
       "      <td>13,000 people receive #wildfires evacuation or...</td>\n",
       "      <td>1</td>\n",
       "    </tr>\n",
       "    <tr>\n",
       "      <th>4</th>\n",
       "      <td>7</td>\n",
       "      <td>smoke</td>\n",
       "      <td>alaska</td>\n",
       "      <td>Just got sent this photo from Ruby #Alaska as ...</td>\n",
       "      <td>1</td>\n",
       "    </tr>\n",
       "  </tbody>\n",
       "</table>\n",
       "</div>"
      ],
      "text/plain": [
       "   id     keyword    location  \\\n",
       "0   1  earthquake          us   \n",
       "1   4        fire          la   \n",
       "2   5  evacuation     unknown   \n",
       "3   6  evacuation  california   \n",
       "4   7       smoke      alaska   \n",
       "\n",
       "                                                text  target  \n",
       "0  Our Deeds are the Reason of this #earthquake M...       1  \n",
       "1             Forest fire near La Ronge Sask. Canada       1  \n",
       "2  All residents asked to 'shelter in place' are ...       1  \n",
       "3  13,000 people receive #wildfires evacuation or...       1  \n",
       "4  Just got sent this photo from Ruby #Alaska as ...       1  "
      ]
     },
     "execution_count": 90,
     "metadata": {},
     "output_type": "execute_result"
    }
   ],
   "source": [
    "raw_data = pd.read_csv('./ToChangeKeywordsAndLocations/withoutEncoding.csv')\n",
    "raw_data.head()"
   ]
  },
  {
   "cell_type": "code",
   "execution_count": 91,
   "metadata": {},
   "outputs": [
    {
     "data": {
      "text/plain": [
       "location\n",
       "unknown          545\n",
       "usa               70\n",
       "california        51\n",
       "india             31\n",
       "united states     29\n",
       "nigeria           28\n",
       "japan             24\n",
       "world             23\n",
       "us                22\n",
       "mumbai            21\n",
       "Name: (target, sum), dtype: int64"
      ]
     },
     "execution_count": 91,
     "metadata": {},
     "output_type": "execute_result"
    }
   ],
   "source": [
    "raw_data.groupby('location').agg({'target':['count','sum']})[('target','sum')].nlargest(10) #Top ten ubicaciones con mas tweets verdaderos"
   ]
  },
  {
   "cell_type": "raw",
   "metadata": {},
   "source": [
    "Ahora nos interesaria investigar que porcentaje de verdad tiene cada location"
   ]
  },
  {
   "cell_type": "code",
   "execution_count": 92,
   "metadata": {},
   "outputs": [
    {
     "data": {
      "text/html": [
       "<div>\n",
       "<style scoped>\n",
       "    .dataframe tbody tr th:only-of-type {\n",
       "        vertical-align: middle;\n",
       "    }\n",
       "\n",
       "    .dataframe tbody tr th {\n",
       "        vertical-align: top;\n",
       "    }\n",
       "\n",
       "    .dataframe thead th {\n",
       "        text-align: right;\n",
       "    }\n",
       "</style>\n",
       "<table border=\"1\" class=\"dataframe\">\n",
       "  <thead>\n",
       "    <tr style=\"text-align: right;\">\n",
       "      <th></th>\n",
       "      <th>target_mean</th>\n",
       "      <th>target_count</th>\n",
       "      <th>target_sum</th>\n",
       "    </tr>\n",
       "    <tr>\n",
       "      <th>location</th>\n",
       "      <th></th>\n",
       "      <th></th>\n",
       "      <th></th>\n",
       "    </tr>\n",
       "  </thead>\n",
       "  <tbody>\n",
       "    <tr>\n",
       "      <th>unknown</th>\n",
       "      <td>0.32</td>\n",
       "      <td>1680</td>\n",
       "      <td>545</td>\n",
       "    </tr>\n",
       "    <tr>\n",
       "      <th>usa</th>\n",
       "      <td>0.63</td>\n",
       "      <td>111</td>\n",
       "      <td>70</td>\n",
       "    </tr>\n",
       "    <tr>\n",
       "      <th>california</th>\n",
       "      <td>0.80</td>\n",
       "      <td>64</td>\n",
       "      <td>51</td>\n",
       "    </tr>\n",
       "    <tr>\n",
       "      <th>india</th>\n",
       "      <td>0.82</td>\n",
       "      <td>38</td>\n",
       "      <td>31</td>\n",
       "    </tr>\n",
       "    <tr>\n",
       "      <th>united states</th>\n",
       "      <td>0.55</td>\n",
       "      <td>53</td>\n",
       "      <td>29</td>\n",
       "    </tr>\n",
       "    <tr>\n",
       "      <th>...</th>\n",
       "      <td>...</td>\n",
       "      <td>...</td>\n",
       "      <td>...</td>\n",
       "    </tr>\n",
       "    <tr>\n",
       "      <th>irving , texas</th>\n",
       "      <td>0.00</td>\n",
       "      <td>1</td>\n",
       "      <td>0</td>\n",
       "    </tr>\n",
       "    <tr>\n",
       "      <th>island lake, il</th>\n",
       "      <td>0.00</td>\n",
       "      <td>1</td>\n",
       "      <td>0</td>\n",
       "    </tr>\n",
       "    <tr>\n",
       "      <th>it's a journey</th>\n",
       "      <td>0.00</td>\n",
       "      <td>1</td>\n",
       "      <td>0</td>\n",
       "    </tr>\n",
       "    <tr>\n",
       "      <th>itirapina, sì£o paulo</th>\n",
       "      <td>0.00</td>\n",
       "      <td>1</td>\n",
       "      <td>0</td>\n",
       "    </tr>\n",
       "    <tr>\n",
       "      <th>ìøåàå_t: 40.736324,-73.990062</th>\n",
       "      <td>0.00</td>\n",
       "      <td>1</td>\n",
       "      <td>0</td>\n",
       "    </tr>\n",
       "  </tbody>\n",
       "</table>\n",
       "<p>3332 rows × 3 columns</p>\n",
       "</div>"
      ],
      "text/plain": [
       "                                       target_mean  target_count  target_sum\n",
       "location                                                                    \n",
       "unknown                                       0.32          1680         545\n",
       "usa                                           0.63           111          70\n",
       "california                                    0.80            64          51\n",
       "india                                         0.82            38          31\n",
       "united states                                 0.55            53          29\n",
       "...                                            ...           ...         ...\n",
       "irving , texas                                0.00             1           0\n",
       "island lake, il                               0.00             1           0\n",
       "it's a journey                                0.00             1           0\n",
       "itirapina, sì£o paulo                         0.00             1           0\n",
       "ìøåàå_t: 40.736324,-73.990062                 0.00             1           0\n",
       "\n",
       "[3332 rows x 3 columns]"
      ]
     },
     "execution_count": 92,
     "metadata": {},
     "output_type": "execute_result"
    }
   ],
   "source": [
    "data_grouped_location = raw_data.groupby('location').agg({'target':['mean','count','sum']})\n",
    "data_grouped_location.columns = ['target_mean','target_count','target_sum']\n",
    "data_grouped_location.sort_values(by='target_sum',ascending=False)"
   ]
  },
  {
   "cell_type": "code",
   "execution_count": 93,
   "metadata": {},
   "outputs": [
    {
     "data": {
      "text/plain": [
       "count               3,332.00\n",
       "mean                    2.28\n",
       "std                    29.33\n",
       "min                     1.00\n",
       "25%                     1.00\n",
       "50%                     1.00\n",
       "75%                     1.00\n",
       "max                 1,680.00\n",
       "Name: target_count, dtype: float64"
      ]
     },
     "execution_count": 93,
     "metadata": {},
     "output_type": "execute_result"
    }
   ],
   "source": [
    "data_grouped_location['target_count'].describe()"
   ]
  },
  {
   "cell_type": "raw",
   "metadata": {},
   "source": [
    "Podemos ver a simple vista que hay lugares que no tienen mucha información, por lo que vamos a realizar un filtrado para obtener los lugares que tengan por lo menos 10 muestras."
   ]
  },
  {
   "cell_type": "code",
   "execution_count": 94,
   "metadata": {},
   "outputs": [],
   "source": [
    "data_grouped_location = data_grouped_location.drop(data_grouped_location[data_grouped_location['target_count'] < 10].index)"
   ]
  },
  {
   "cell_type": "raw",
   "metadata": {},
   "source": [
    "Ahora que nuestro set de datos tiene ubicaciones con la suficiente informacion muestral podemos calcular el porcentaje de veracidad por location"
   ]
  },
  {
   "cell_type": "code",
   "execution_count": 142,
   "metadata": {},
   "outputs": [
    {
     "data": {
      "text/plain": [
       "Text(0, 0.5, 'Location')"
      ]
     },
     "execution_count": 142,
     "metadata": {},
     "output_type": "execute_result"
    },
    {
     "data": {
      "image/png": "[encoded data removed]",
      "text/plain": [
       "<Figure size 640x480 with 1 Axes>"
      ]
     },
     "metadata": {},
     "output_type": "display_data"
    }
   ],
   "source": [
    "index_most_tweeted = data_grouped_location['target_mean'].nlargest(10).index\n",
    "\n",
    "ax = sns.barplot(x=data_grouped_location.loc[index_most_tweeted,'target_mean'] * 100,y=index_most_tweeted,orient='h',\\\n",
    "               palette=\"Blues_d\")\n",
    "ax.set_title(\"Top 10 truth percentege per location\", fontsize = 15)\n",
    "ax.set_xlabel(\"Truth percentege\", fontsize = 12)\n",
    "ax.set_ylabel(\"Location\", fontsize = 12)"
   ]
  },
  {
   "cell_type": "code",
   "execution_count": 147,
   "metadata": {},
   "outputs": [
    {
     "data": {
      "image/png": "[encoded data removed]",
      "text/plain": [
       "<Figure size 640x480 with 1 Axes>"
      ]
     },
     "metadata": {},
     "output_type": "display_data"
    }
   ],
   "source": [
    "#ax = sns.barplot(x=data_grouped_location['target_mean'].nsmallest(10) * 100,y=data_grouped_location['target_mean'].nsmallest(10).index,orient='h',\\\n",
    " #             palette=reversed(sns.color_palette('Blues_d', n_colors=10)))\n",
    "\n",
    "index_less_tweeted = data_grouped_location['target_mean'].nsmallest(10).index\n",
    "plt.scatter(x=data_grouped_location.loc[index_less_tweeted,'target_mean'] * 100, y=index_less_tweeted, s=data_grouped_location.loc[index_less_tweeted,'target_count']*10,c='blue', alpha=0.4)\n",
    "plt.show()\n",
    "\n",
    "#ax.set_title(\"Worst 10 truth percentege per location\", fontsize = 15)\n",
    "#ax.set_xlabel(\"Truth percentege\", fontsize = 12)\n",
    "#ax.set_ylabel(\"Location\", fontsize = 12)"
   ]
  },
  {
   "cell_type": "code",
   "execution_count": 130,
   "metadata": {},
   "outputs": [
    {
     "data": {
      "text/html": [
       "<div>\n",
       "<style scoped>\n",
       "    .dataframe tbody tr th:only-of-type {\n",
       "        vertical-align: middle;\n",
       "    }\n",
       "\n",
       "    .dataframe tbody tr th {\n",
       "        vertical-align: top;\n",
       "    }\n",
       "\n",
       "    .dataframe thead th {\n",
       "        text-align: right;\n",
       "    }\n",
       "</style>\n",
       "<table border=\"1\" class=\"dataframe\">\n",
       "  <thead>\n",
       "    <tr style=\"text-align: right;\">\n",
       "      <th></th>\n",
       "      <th>target_mean</th>\n",
       "      <th>target_count</th>\n",
       "      <th>target_sum</th>\n",
       "    </tr>\n",
       "    <tr>\n",
       "      <th>location</th>\n",
       "      <th></th>\n",
       "      <th></th>\n",
       "      <th></th>\n",
       "    </tr>\n",
       "  </thead>\n",
       "  <tbody>\n",
       "    <tr>\n",
       "      <th>kenya</th>\n",
       "      <td>0.24</td>\n",
       "      <td>21</td>\n",
       "      <td>5</td>\n",
       "    </tr>\n",
       "  </tbody>\n",
       "</table>\n",
       "</div>"
      ],
      "text/plain": [
       "                  target_mean  target_count  target_sum\n",
       "location                                               \n",
       "kenya                    0.24            21           5"
      ]
     },
     "execution_count": 130,
     "metadata": {},
     "output_type": "execute_result"
    }
   ],
   "source": [
    "data_grouped_location.loc[data_grouped_location.index == 'kenya',:]"
   ]
  },
  {
   "cell_type": "code",
   "execution_count": 96,
   "metadata": {},
   "outputs": [
    {
     "data": {
      "image/png": "[encoded data removed]",
      "text/plain": [
       "<Figure size 800x500 with 1 Axes>"
      ]
     },
     "metadata": {},
     "output_type": "display_data"
    }
   ],
   "source": [
    "index_most_tweeted = data_grouped_location['target_count'].nlargest(10).index\n",
    "index_most_tweeted = index_most_tweeted.drop('unknown') #Ya que en la limpieza de datos determinamos que son valores desconocidos\n",
    "f, ax = plt.subplots(figsize=(8, 5))\n",
    "\n",
    "sns.set_color_codes(\"pastel\")\n",
    "sns.barplot(x=data_grouped_location.loc[index_most_tweeted,'target_count'], y=index_most_tweeted,\n",
    "            label=\"All tweets\", color=\"b\")\n",
    "\n",
    "sns.set_color_codes(\"muted\")\n",
    "sns.barplot(x=data_grouped_location.loc[index_most_tweeted,'target_sum'], y=index_most_tweeted,\n",
    "            label=\"Truth tweets\", color=\"b\")\n",
    "\n",
    "# Add a legend and informative axis label\n",
    "ax.set_title(\"Top 10 most tweeted location\", fontsize = 15)\n",
    "ax.set_ylabel(\"Location\", fontsize = 12)\n",
    "# ax.set_xlabel(\"Truth percentege\", fontsize = 12)\n",
    "ax.legend(ncol=2, loc=\"lower right\", frameon=True)\n",
    "ax.set(ylabel=\"Location\",xlabel=\"Total\")\n",
    "sns.despine(left=True, bottom=True)"
   ]
  },
  {
   "cell_type": "code",
   "execution_count": 131,
   "metadata": {},
   "outputs": [
    {
     "data": {
      "text/plain": [
       "Text(0.5, 0, 'Number of times mentioned')"
      ]
     },
     "execution_count": 131,
     "metadata": {},
     "output_type": "execute_result"
    },
    {
     "data": {
      "image/png": "[encoded data removed]",
      "text/plain": [
       "<Figure size 640x480 with 1 Axes>"
      ]
     },
     "metadata": {},
     "output_type": "display_data"
    }
   ],
   "source": [
    "# no pareciera haber relacion entre la cantidad de veces mencionada con su verdad\n",
    "data_grouped_location = data_grouped_location.drop(data_grouped_location.loc[data_grouped_location.index == 'unknown'].index)\n",
    "ax = sns.scatterplot(x=data_grouped_location['target_count'],y=data_grouped_location['target_mean']*100)\n",
    "ax.set_title(\"Number of times that the location was mentioned vs truth percentage of the location\", fontsize = 12)\n",
    "ax.set_ylabel(\"Truth percentege\", fontsize = 12)\n",
    "ax.set_xlabel(\"Number of times mentioned\", fontsize = 12)"
   ]
  },
  {
   "cell_type": "code",
   "execution_count": 111,
   "metadata": {},
   "outputs": [
    {
     "data": {
      "text/plain": [
       "Text(0.5, 0, 'Amount of veracity per location')"
      ]
     },
     "execution_count": 111,
     "metadata": {},
     "output_type": "execute_result"
    },
    {
     "data": {
      "image/png": "[encoded data removed]",
      "text/plain": [
       "<Figure size 640x480 with 1 Axes>"
      ]
     },
     "metadata": {},
     "output_type": "display_data"
    }
   ],
   "source": [
    "# distribucion de locations verdaderas vs distribucion de location falsas\n",
    "ax = sns.distplot(data_grouped_location['target_sum'],bins=50,hist=True,label=\"True tweets\") #tweets verdaderos por location\n",
    "ax = sns.distplot(data_grouped_location['target_count'] - data_grouped_location['target_sum'],bins=50,hist=True,label=\"False tweets\") #tweets falsos por location\n",
    "ax.set_title(\"Distribution of true tweets vs false tweets per location\", fontsize = 15)\n",
    "ax.legend(ncol=2, loc=\"upper right\", frameon=True)\n",
    "ax.set_xlabel(\"Amount of veracity per location\", fontsize = 12)"
   ]
  },
  {
   "cell_type": "code",
   "execution_count": 13,
   "metadata": {},
   "outputs": [
    {
     "data": {
      "text/html": [
       "<div>\n",
       "<style scoped>\n",
       "    .dataframe tbody tr th:only-of-type {\n",
       "        vertical-align: middle;\n",
       "    }\n",
       "\n",
       "    .dataframe tbody tr th {\n",
       "        vertical-align: top;\n",
       "    }\n",
       "\n",
       "    .dataframe thead th {\n",
       "        text-align: right;\n",
       "    }\n",
       "</style>\n",
       "<table border=\"1\" class=\"dataframe\">\n",
       "  <thead>\n",
       "    <tr style=\"text-align: right;\">\n",
       "      <th></th>\n",
       "      <th>keyword</th>\n",
       "      <th>location</th>\n",
       "    </tr>\n",
       "  </thead>\n",
       "  <tbody>\n",
       "    <tr>\n",
       "      <th>0</th>\n",
       "      <td>earthquake</td>\n",
       "      <td>us</td>\n",
       "    </tr>\n",
       "    <tr>\n",
       "      <th>1</th>\n",
       "      <td>fire</td>\n",
       "      <td>la</td>\n",
       "    </tr>\n",
       "    <tr>\n",
       "      <th>3</th>\n",
       "      <td>evacuation</td>\n",
       "      <td>california</td>\n",
       "    </tr>\n",
       "    <tr>\n",
       "      <th>4</th>\n",
       "      <td>smoke</td>\n",
       "      <td>alaska</td>\n",
       "    </tr>\n",
       "    <tr>\n",
       "      <th>5</th>\n",
       "      <td>fire</td>\n",
       "      <td>california</td>\n",
       "    </tr>\n",
       "  </tbody>\n",
       "</table>\n",
       "</div>"
      ],
      "text/plain": [
       "      keyword    location\n",
       "0  earthquake          us\n",
       "1        fire          la\n",
       "3  evacuation  california\n",
       "4       smoke      alaska\n",
       "5        fire  california"
      ]
     },
     "execution_count": 13,
     "metadata": {},
     "output_type": "execute_result"
    }
   ],
   "source": [
    "#Getting the data for location-keyword relationshp analysis\n",
    "twitterCleanData = pd.read_csv('./ToChangeKeywordsAndLocations/withoutEncoding.csv')\n",
    "twitterKeywordAndLocation = twitterCleanData[['keyword', 'location']]\n",
    "#Filtering those values that are missing\n",
    "twitterKeywordAndLocation = twitterKeywordAndLocation[twitterKeywordAndLocation['keyword'] != 'unknown']\n",
    "twitterKeywordAndLocation = twitterKeywordAndLocation[twitterKeywordAndLocation['location'] != 'unknown']\n",
    "twitterKeywordAndLocation.head()"
   ]
  },
  {
   "cell_type": "code",
   "execution_count": 14,
   "metadata": {},
   "outputs": [
    {
     "name": "stdout",
     "output_type": "stream",
     "text": [
      "<class 'pandas.core.frame.DataFrame'>\n",
      "Int64Index: 5931 entries, 0 to 7612\n",
      "Data columns (total 2 columns):\n",
      " #   Column    Non-Null Count  Dtype \n",
      "---  ------    --------------  ----- \n",
      " 0   keyword   5931 non-null   object\n",
      " 1   location  5931 non-null   object\n",
      "dtypes: object(2)\n",
      "memory usage: 139.0+ KB\n"
     ]
    }
   ],
   "source": [
    "#Some of DataFrame's properties\n",
    "twitterKeywordAndLocation.info()"
   ]
  },
  {
   "cell_type": "code",
   "execution_count": 15,
   "metadata": {},
   "outputs": [],
   "source": [
    "#Changing DataFrmae columns data types in order to apply some operations on them \n",
    "\n",
    "twitterKeywordAndLocation['keyword'] = twitterKeywordAndLocation['keyword'].astype('string')\n",
    "twitterKeywordAndLocation['location'] = twitterKeywordAndLocation['location'].astype('string')"
   ]
  },
  {
   "cell_type": "code",
   "execution_count": 16,
   "metadata": {},
   "outputs": [
    {
     "data": {
      "text/html": [
       "<div>\n",
       "<style scoped>\n",
       "    .dataframe tbody tr th:only-of-type {\n",
       "        vertical-align: middle;\n",
       "    }\n",
       "\n",
       "    .dataframe tbody tr th {\n",
       "        vertical-align: top;\n",
       "    }\n",
       "\n",
       "    .dataframe thead th {\n",
       "        text-align: right;\n",
       "    }\n",
       "</style>\n",
       "<table border=\"1\" class=\"dataframe\">\n",
       "  <thead>\n",
       "    <tr style=\"text-align: right;\">\n",
       "      <th></th>\n",
       "      <th>keyword</th>\n",
       "      <th>location</th>\n",
       "      <th>counter</th>\n",
       "    </tr>\n",
       "  </thead>\n",
       "  <tbody>\n",
       "    <tr>\n",
       "      <th>0</th>\n",
       "      <td>earthquake</td>\n",
       "      <td>us</td>\n",
       "      <td>1</td>\n",
       "    </tr>\n",
       "    <tr>\n",
       "      <th>1</th>\n",
       "      <td>fire</td>\n",
       "      <td>la</td>\n",
       "      <td>1</td>\n",
       "    </tr>\n",
       "    <tr>\n",
       "      <th>3</th>\n",
       "      <td>evacuation</td>\n",
       "      <td>california</td>\n",
       "      <td>1</td>\n",
       "    </tr>\n",
       "    <tr>\n",
       "      <th>4</th>\n",
       "      <td>smoke</td>\n",
       "      <td>alaska</td>\n",
       "      <td>1</td>\n",
       "    </tr>\n",
       "    <tr>\n",
       "      <th>5</th>\n",
       "      <td>fire</td>\n",
       "      <td>california</td>\n",
       "      <td>1</td>\n",
       "    </tr>\n",
       "    <tr>\n",
       "      <th>...</th>\n",
       "      <td>...</td>\n",
       "      <td>...</td>\n",
       "      <td>...</td>\n",
       "    </tr>\n",
       "    <tr>\n",
       "      <th>7603</th>\n",
       "      <td>quarantine</td>\n",
       "      <td>alabama</td>\n",
       "      <td>1</td>\n",
       "    </tr>\n",
       "    <tr>\n",
       "      <th>7606</th>\n",
       "      <td>suicide bomber</td>\n",
       "      <td>world</td>\n",
       "      <td>1</td>\n",
       "    </tr>\n",
       "    <tr>\n",
       "      <th>7607</th>\n",
       "      <td>tornado</td>\n",
       "      <td>oklahoma</td>\n",
       "      <td>1</td>\n",
       "    </tr>\n",
       "    <tr>\n",
       "      <th>7609</th>\n",
       "      <td>wild fires</td>\n",
       "      <td>california</td>\n",
       "      <td>1</td>\n",
       "    </tr>\n",
       "    <tr>\n",
       "      <th>7612</th>\n",
       "      <td>wildfire</td>\n",
       "      <td>california</td>\n",
       "      <td>1</td>\n",
       "    </tr>\n",
       "  </tbody>\n",
       "</table>\n",
       "<p>5931 rows × 3 columns</p>\n",
       "</div>"
      ],
      "text/plain": [
       "             keyword    location  counter\n",
       "0         earthquake          us        1\n",
       "1               fire          la        1\n",
       "3         evacuation  california        1\n",
       "4              smoke      alaska        1\n",
       "5               fire  california        1\n",
       "...              ...         ...      ...\n",
       "7603      quarantine     alabama        1\n",
       "7606  suicide bomber       world        1\n",
       "7607         tornado    oklahoma        1\n",
       "7609      wild fires  california        1\n",
       "7612        wildfire  california        1\n",
       "\n",
       "[5931 rows x 3 columns]"
      ]
     },
     "execution_count": 16,
     "metadata": {},
     "output_type": "execute_result"
    }
   ],
   "source": [
    "#Visualization\n",
    "\n",
    "#Counter of keywords\n",
    "twitterKeywordAndLocation['counter'] = 1\n",
    "twitterKeywordAndLocation"
   ]
  },
  {
   "cell_type": "code",
   "execution_count": 17,
   "metadata": {},
   "outputs": [
    {
     "data": {
      "text/html": [
       "<div>\n",
       "<style scoped>\n",
       "    .dataframe tbody tr th:only-of-type {\n",
       "        vertical-align: middle;\n",
       "    }\n",
       "\n",
       "    .dataframe tbody tr th {\n",
       "        vertical-align: top;\n",
       "    }\n",
       "\n",
       "    .dataframe thead th {\n",
       "        text-align: right;\n",
       "    }\n",
       "</style>\n",
       "<table border=\"1\" class=\"dataframe\">\n",
       "  <thead>\n",
       "    <tr style=\"text-align: right;\">\n",
       "      <th></th>\n",
       "      <th>location</th>\n",
       "      <th>counter</th>\n",
       "    </tr>\n",
       "  </thead>\n",
       "  <tbody>\n",
       "    <tr>\n",
       "      <th>0</th>\n",
       "      <td>#1 vacation destination,hawaii</td>\n",
       "      <td>1</td>\n",
       "    </tr>\n",
       "    <tr>\n",
       "      <th>1</th>\n",
       "      <td>#937??#734</td>\n",
       "      <td>1</td>\n",
       "    </tr>\n",
       "    <tr>\n",
       "      <th>2</th>\n",
       "      <td>#????? libya#</td>\n",
       "      <td>1</td>\n",
       "    </tr>\n",
       "    <tr>\n",
       "      <th>3</th>\n",
       "      <td>#blacklivesmatter</td>\n",
       "      <td>1</td>\n",
       "    </tr>\n",
       "    <tr>\n",
       "      <th>4</th>\n",
       "      <td>#bossnation!</td>\n",
       "      <td>1</td>\n",
       "    </tr>\n",
       "    <tr>\n",
       "      <th>...</th>\n",
       "      <td>...</td>\n",
       "      <td>...</td>\n",
       "    </tr>\n",
       "    <tr>\n",
       "      <th>3326</th>\n",
       "      <td>ìït: 42.910975,-78.865828</td>\n",
       "      <td>1</td>\n",
       "    </tr>\n",
       "    <tr>\n",
       "      <th>3327</th>\n",
       "      <td>ìït: 43.631838,-79.55807</td>\n",
       "      <td>1</td>\n",
       "    </tr>\n",
       "    <tr>\n",
       "      <th>3328</th>\n",
       "      <td>ìït: 6.4682,3.18287</td>\n",
       "      <td>1</td>\n",
       "    </tr>\n",
       "    <tr>\n",
       "      <th>3329</th>\n",
       "      <td>ìït: 6.488400524109015,3.352798039832285</td>\n",
       "      <td>1</td>\n",
       "    </tr>\n",
       "    <tr>\n",
       "      <th>3330</th>\n",
       "      <td>ìøåàå_t: 40.736324,-73.990062</td>\n",
       "      <td>1</td>\n",
       "    </tr>\n",
       "  </tbody>\n",
       "</table>\n",
       "<p>3331 rows × 2 columns</p>\n",
       "</div>"
      ],
      "text/plain": [
       "                                      location  counter\n",
       "0               #1 vacation destination,hawaii        1\n",
       "1                                   #937??#734        1\n",
       "2                                #????? libya#        1\n",
       "3                            #blacklivesmatter        1\n",
       "4                                 #bossnation!        1\n",
       "...                                        ...      ...\n",
       "3326                 ìït: 42.910975,-78.865828        1\n",
       "3327                  ìït: 43.631838,-79.55807        1\n",
       "3328                       ìït: 6.4682,3.18287        1\n",
       "3329  ìït: 6.488400524109015,3.352798039832285        1\n",
       "3330             ìøåàå_t: 40.736324,-73.990062        1\n",
       "\n",
       "[3331 rows x 2 columns]"
      ]
     },
     "execution_count": 17,
     "metadata": {},
     "output_type": "execute_result"
    }
   ],
   "source": [
    "#Number of keywords per location\n",
    "keywordsPerLocation = twitterKeywordAndLocation.groupby('location')\\\n",
    ".agg({'counter' : 'sum'})\n",
    "keywordsPerLocation = keywordsPerLocation.reset_index()\n",
    "keywordsPerLocation"
   ]
  },
  {
   "cell_type": "code",
   "execution_count": 18,
   "metadata": {},
   "outputs": [
    {
     "data": {
      "text/html": [
       "<div>\n",
       "<style scoped>\n",
       "    .dataframe tbody tr th:only-of-type {\n",
       "        vertical-align: middle;\n",
       "    }\n",
       "\n",
       "    .dataframe tbody tr th {\n",
       "        vertical-align: top;\n",
       "    }\n",
       "\n",
       "    .dataframe thead th {\n",
       "        text-align: right;\n",
       "    }\n",
       "</style>\n",
       "<table border=\"1\" class=\"dataframe\">\n",
       "  <thead>\n",
       "    <tr style=\"text-align: right;\">\n",
       "      <th></th>\n",
       "      <th>location</th>\n",
       "      <th>counter</th>\n",
       "    </tr>\n",
       "  </thead>\n",
       "  <tbody>\n",
       "    <tr>\n",
       "      <th>3021</th>\n",
       "      <td>usa</td>\n",
       "      <td>111</td>\n",
       "    </tr>\n",
       "    <tr>\n",
       "      <th>2011</th>\n",
       "      <td>new york</td>\n",
       "      <td>80</td>\n",
       "    </tr>\n",
       "    <tr>\n",
       "      <th>589</th>\n",
       "      <td>california</td>\n",
       "      <td>64</td>\n",
       "    </tr>\n",
       "    <tr>\n",
       "      <th>1676</th>\n",
       "      <td>london</td>\n",
       "      <td>55</td>\n",
       "    </tr>\n",
       "    <tr>\n",
       "      <th>2996</th>\n",
       "      <td>united states</td>\n",
       "      <td>53</td>\n",
       "    </tr>\n",
       "    <tr>\n",
       "      <th>3016</th>\n",
       "      <td>us</td>\n",
       "      <td>44</td>\n",
       "    </tr>\n",
       "    <tr>\n",
       "      <th>3232</th>\n",
       "      <td>world</td>\n",
       "      <td>41</td>\n",
       "    </tr>\n",
       "    <tr>\n",
       "      <th>1398</th>\n",
       "      <td>india</td>\n",
       "      <td>38</td>\n",
       "    </tr>\n",
       "    <tr>\n",
       "      <th>605</th>\n",
       "      <td>canada</td>\n",
       "      <td>35</td>\n",
       "    </tr>\n",
       "    <tr>\n",
       "      <th>2048</th>\n",
       "      <td>nigeria</td>\n",
       "      <td>35</td>\n",
       "    </tr>\n",
       "    <tr>\n",
       "      <th>2981</th>\n",
       "      <td>uk</td>\n",
       "      <td>34</td>\n",
       "    </tr>\n",
       "    <tr>\n",
       "      <th>3238</th>\n",
       "      <td>worldwide</td>\n",
       "      <td>32</td>\n",
       "    </tr>\n",
       "    <tr>\n",
       "      <th>1704</th>\n",
       "      <td>los angeles, ca</td>\n",
       "      <td>28</td>\n",
       "    </tr>\n",
       "    <tr>\n",
       "      <th>1462</th>\n",
       "      <td>japan</td>\n",
       "      <td>26</td>\n",
       "    </tr>\n",
       "    <tr>\n",
       "      <th>1920</th>\n",
       "      <td>mumbai</td>\n",
       "      <td>26</td>\n",
       "    </tr>\n",
       "    <tr>\n",
       "      <th>1011</th>\n",
       "      <td>everywhere</td>\n",
       "      <td>22</td>\n",
       "    </tr>\n",
       "    <tr>\n",
       "      <th>358</th>\n",
       "      <td>australia</td>\n",
       "      <td>21</td>\n",
       "    </tr>\n",
       "    <tr>\n",
       "      <th>1525</th>\n",
       "      <td>kenya</td>\n",
       "      <td>21</td>\n",
       "    </tr>\n",
       "    <tr>\n",
       "      <th>3128</th>\n",
       "      <td>washington, dc</td>\n",
       "      <td>21</td>\n",
       "    </tr>\n",
       "    <tr>\n",
       "      <th>684</th>\n",
       "      <td>chicago, il</td>\n",
       "      <td>20</td>\n",
       "    </tr>\n",
       "  </tbody>\n",
       "</table>\n",
       "</div>"
      ],
      "text/plain": [
       "             location  counter\n",
       "3021              usa      111\n",
       "2011         new york       80\n",
       "589        california       64\n",
       "1676           london       55\n",
       "2996    united states       53\n",
       "3016               us       44\n",
       "3232            world       41\n",
       "1398            india       38\n",
       "605            canada       35\n",
       "2048          nigeria       35\n",
       "2981               uk       34\n",
       "3238        worldwide       32\n",
       "1704  los angeles, ca       28\n",
       "1462            japan       26\n",
       "1920           mumbai       26\n",
       "1011       everywhere       22\n",
       "358         australia       21\n",
       "1525            kenya       21\n",
       "3128   washington, dc       21\n",
       "684       chicago, il       20"
      ]
     },
     "execution_count": 18,
     "metadata": {},
     "output_type": "execute_result"
    }
   ],
   "source": [
    "top20KeywordsPerLocation = keywordsPerLocation.nlargest(20, 'counter')\n",
    "top20KeywordsPerLocation"
   ]
  },
  {
   "cell_type": "code",
   "execution_count": 19,
   "metadata": {},
   "outputs": [
    {
     "data": {
      "image/png": "[encoded data removed]",
      "text/plain": [
       "<Figure size 1600x600 with 1 Axes>"
      ]
     },
     "metadata": {},
     "output_type": "display_data"
    }
   ],
   "source": [
    "#barplot\n",
    "\n",
    "ax = sns.barplot(x = 'location', y = 'counter', data = top20KeywordsPerLocation,\\\n",
    "                palette = sns.cubehelix_palette(20, reverse = True))\n",
    "ax.set_ylabel('Keyword counter', size = 16)\n",
    "ax.set_xlabel('Location', size = 16)\n",
    "ax.set_title('Top 20 locations with most number of keywords', size = 20)\n",
    "ax.set_xticklabels(ax.get_xticklabels(), rotation = 60)\n",
    "ax.figure.set_size_inches(16, 6)\n",
    "plt.tight_layout()\n",
    "ax.get_figure().savefig(\"Top20LocationsWithMosthKeywords.png\")"
   ]
  },
  {
   "cell_type": "code",
   "execution_count": null,
   "metadata": {},
   "outputs": [],
   "source": [
    "#Cleaning the data\n",
    "#Dropping those locations that don't have a significant number of keywords\n",
    "#For that, first we see the average\n",
    "keywordMean = keywordsPerLocation['counter'].mean()\n",
    "keywordMean = int(keywordMean)\n",
    "keywordMean"
   ]
  },
  {
   "cell_type": "code",
   "execution_count": null,
   "metadata": {},
   "outputs": [],
   "source": [
    "#Then, we filter\n",
    "keywordsPerLocation = keywordsPerLocation[keywordsPerLocation['counter'] > keywordMean]\n",
    "keywordsPerLocation.describe()"
   ]
  },
  {
   "cell_type": "code",
   "execution_count": null,
   "metadata": {},
   "outputs": [],
   "source": [
    "#Most popular keywords\n",
    "keywordsPopular = twitterKeywordAndLocation.groupby('keyword')\\\n",
    ".agg({'counter' : 'sum'})\n",
    "keywordsPopular = keywordsPopular.reset_index()\n",
    "top20KeywordsPopular = keywordsPopular.nlargest(20, 'counter')"
   ]
  },
  {
   "cell_type": "code",
   "execution_count": null,
   "metadata": {},
   "outputs": [],
   "source": [
    "#barplot\n",
    "\n",
    "ax = sns.barplot(x = 'keyword', y = 'counter', data = top20KeywordsPopular,\\\n",
    "                palette = sns.cubehelix_palette(30, start=.5, rot = -.75, reverse = True))\n",
    "ax.set_ylabel('Occurrence of keywords in different tweets', size = 12)\n",
    "ax.set_xlabel('Keyword', size = 16)\n",
    "ax.set_title('Top 20 most popular keywords', size = 20)\n",
    "ax.set_xticklabels(ax.get_xticklabels(), rotation = 60)\n",
    "ax.figure.set_size_inches(16, 6)\n",
    "plt.tight_layout()\n",
    "ax.get_figure().savefig(\"Top20MostPopularKeywords.png\", optimize = True)"
   ]
  },
  {
   "cell_type": "code",
   "execution_count": null,
   "metadata": {},
   "outputs": [],
   "source": [
    "#Removing non representative samples\n",
    "keywordsPopularMean = keywordsPopular.mean()\n",
    "keywordsPopularMean = int(keywordsPopularMean)\n",
    "keywordsPopular = keywordsPopular[keywordsPopular['counter'] > keywordsPopularMean]\n",
    "keywordsPopular.describe()"
   ]
  },
  {
   "cell_type": "code",
   "execution_count": null,
   "metadata": {},
   "outputs": [],
   "source": [
    "#Comparison between the most popular keywords and locations associated to those keywords\n",
    "locationAndKeyword = pd.merge(twitterKeywordAndLocation, keywordsPopular, on = 'keyword')\n",
    "locationAndKeyword.head()"
   ]
  },
  {
   "cell_type": "code",
   "execution_count": null,
   "metadata": {},
   "outputs": [],
   "source": [
    "locationAndKeyword.drop(['counter_x', 'counter_y'], axis = 1, inplace = True)\n",
    "locationAndKeyword['counter'] = 1\n",
    "locationAndKeyword.head()"
   ]
  },
  {
   "cell_type": "code",
   "execution_count": null,
   "metadata": {},
   "outputs": [],
   "source": [
    "locationAndKeyword = locationAndKeyword.groupby(['keyword', 'location'])\\\n",
    ".agg({'counter' : 'sum'})\n",
    "locationAndKeyword = locationAndKeyword.sort_values(by = 'counter', ascending = False)\n",
    "locationAndKeyword = locationAndKeyword.reset_index()\n",
    "locationAndKeyword"
   ]
  },
  {
   "cell_type": "code",
   "execution_count": null,
   "metadata": {},
   "outputs": [],
   "source": [
    "#scatterplot\n",
    "\n",
    "g = sns.relplot(x = 'keyword', y = 'location', hue = 'counter',\\\n",
    "            s = 150, alpha = .5, height = 5, data = locationAndKeyword.head(20),\\\n",
    "               palette = \"winter_r\")\n",
    "\n",
    "g.ax.set_title('Locations per popular keyword', fontsize = 20)\n",
    "g.set_xlabels('Keyword',fontsize = 18)\n",
    "g.set_ylabels('Location', fontsize = 18)\n",
    "g.ax.set_xticklabels(g.ax.get_xticklabels(), rotation = 80)\n",
    "g.ax.figure.set_size_inches(10, 6)\n",
    "plt.tight_layout()\n",
    "g.ax.get_figure().savefig(\"LocationPeroPopularKeyword.png\")"
   ]
  },
  {
   "cell_type": "code",
   "execution_count": null,
   "metadata": {},
   "outputs": [],
   "source": [
    "tweetsInfo = pd.read_csv('./train.csv', encoding = 'latin-1', usecols = ['text', 'target'])\n",
    "tweetsInfo.head()"
   ]
  },
  {
   "cell_type": "code",
   "execution_count": null,
   "metadata": {},
   "outputs": [],
   "source": [
    "#Starting the analisis for the relation between keywords and hashtags\n",
    "hashForKeywordsAndHashtags = {}\n",
    "csvFormatted = pd.read_csv('./ToChangeKeywordsAndLocations/withoutEncoding.csv', usecols = ['keyword', 'text', 'target'])\n",
    "csvFormatted = csvFormatted[csvFormatted['keyword'] != 'unknown']\n",
    "csvFormatted['keyword'].value_counts().head(20)"
   ]
  },
  {
   "cell_type": "code",
   "execution_count": null,
   "metadata": {},
   "outputs": [],
   "source": [
    "def sumHashtagIfNedeed(line, keyword, hashOfKeywords):\n",
    "    for word in line.split():\n",
    "        if not word.startswith('#'):\n",
    "            continue\n",
    "        word = word.lower().lstrip('#')\n",
    "        if keyword not in hashOfKeywords:\n",
    "            hashOfKeywords[keyword] = {}\n",
    "        hashOfKeywords[keyword][word.lstrip('#')] = hashOfKeywords[keyword].get(word.lstrip('#'), 0) + 1"
   ]
  },
  {
   "cell_type": "code",
   "execution_count": null,
   "metadata": {},
   "outputs": [],
   "source": [
    "csvFormatted.apply(lambda x: sumHashtagIfNedeed(x['text'], x['keyword'], hashForKeywordsAndHashtags), axis = 1)"
   ]
  },
  {
   "cell_type": "code",
   "execution_count": null,
   "metadata": {},
   "outputs": [],
   "source": [
    "d = {'keyword': [], 'amount': []}\n",
    "for key in hashForKeywordsAndHashtags:\n",
    "    d['keyword'].append(key)\n",
    "    d['amount'].append(sum(hashForKeywordsAndHashtags[key].values()))\n",
    "keywordDf = pd.DataFrame(d, columns =['keyword', 'amount'])\n",
    "keywordDf = keywordDf.sort_values(by = ['amount']).tail(20)\n",
    "keywordDf"
   ]
  },
  {
   "cell_type": "code",
   "execution_count": null,
   "metadata": {},
   "outputs": [],
   "source": [
    "ax = sns.barplot(x = 'keyword', y = 'amount', data = keywordDf);\n",
    "ax.set_title('Keyword and amount of hashtags', fontsize=20)\n",
    "ax.set_xlabel('Keywords', fontsize = 18)\n",
    "ax.set_ylabel('Amount of hashtags used', fontsize = 18)\n",
    "ax.set_xticklabels(ax.get_xticklabels(), rotation=90)\n",
    "ax.tick_params(axis=\"x\", labelsize='large')\n",
    "ax.tick_params(axis=\"x\", labelsize=16)\n",
    "ax.tick_params(axis=\"y\", labelsize=16)\n",
    "ax.figure.set_size_inches(20, 8);\n",
    "plt.show()"
   ]
  },
  {
   "cell_type": "code",
   "execution_count": null,
   "metadata": {},
   "outputs": [],
   "source": [
    "csvWithOnlyKeywordTarget = csvFormatted.drop('text', 1)\n",
    "csvWithOnlyKeywordTarget = csvWithOnlyKeywordTarget.groupby(['keyword']).agg({'target': ['mean', 'count']})\n",
    "csvWithOnlyKeywordTarget.columns = csvWithOnlyKeywordTarget.columns.get_level_values(0) + '_' + csvWithOnlyKeywordTarget.columns.get_level_values(1)\n",
    "csvWithOnlyKeywordTarget = csvWithOnlyKeywordTarget.sort_values(by = ['target_mean']).reset_index() #Hasta aca tengo TODOS los valores de verdad\n",
    "csvWithOnlyKeywordTarget = pd.merge(csvWithOnlyKeywordTarget, keywordDf, on='keyword', how='inner')\n",
    "csvWithOnlyKeywordTarget.head(20)"
   ]
  },
  {
   "cell_type": "code",
   "execution_count": null,
   "metadata": {},
   "outputs": [],
   "source": [
    "ax = sns.barplot(x = 'keyword', y = 'target_mean', data = csvWithOnlyKeywordTarget);\n",
    "ax.set_title('Keyword and veracity value', fontsize=20)\n",
    "ax.set_xlabel('Keywords', fontsize = 18)\n",
    "ax.set_ylabel('Veracity', fontsize = 18)\n",
    "ax.set_xticklabels(ax.get_xticklabels(), rotation=90)\n",
    "ax.tick_params(axis=\"x\", labelsize='large')\n",
    "ax.tick_params(axis=\"x\", labelsize=16)\n",
    "ax.tick_params(axis=\"y\", labelsize=16)\n",
    "ax.figure.set_size_inches(20, 8);\n",
    "plt.show()"
   ]
  },
  {
   "cell_type": "code",
   "execution_count": null,
   "metadata": {},
   "outputs": [],
   "source": [
    "tweetsInfo['tweet_length'] = tweetsInfo.text.str.len()"
   ]
  },
  {
   "cell_type": "code",
   "execution_count": null,
   "metadata": {},
   "outputs": [],
   "source": [
    "def validUser(userName):\n",
    "    if '@' in userName:\n",
    "        user = getter(userName, '@')\n",
    "        length = len(user)\n",
    "        if (length > 1 and length <= 16):\n",
    "            for char in user[1:]:\n",
    "                if not(char.isalnum() or char == '_'): return False\n",
    "            return True\n",
    "    return False"
   ]
  },
  {
   "cell_type": "code",
   "execution_count": null,
   "metadata": {},
   "outputs": [],
   "source": [
    "def validLink(link):\n",
    "    type1 = 'https://'\n",
    "    type2 = 'http://'\n",
    "    if type1 in link and len(link) > 9: return True\n",
    "    if type2 in link and len(link) > 8: return True\n",
    "    return False"
   ]
  },
  {
   "cell_type": "code",
   "execution_count": null,
   "metadata": {},
   "outputs": [],
   "source": [
    "def validHashtag(hashtag):\n",
    "    if '#' in hashtag:\n",
    "        hashtag = getter(hashtag, '#')\n",
    "        hashtag = hashtag[1:]\n",
    "        return hashtag.isalnum()\n",
    "    return False"
   ]
  },
  {
   "cell_type": "code",
   "execution_count": null,
   "metadata": {},
   "outputs": [],
   "source": [
    "#Function to analyze the elements (#. @, links) of the tweet\n",
    "def analyzeTweets(text):\n",
    "    result = [0,0,0] #number of usersTagged, hashtags and links\n",
    "    text = text.split()\n",
    "    for word in text:\n",
    "        if validUser(word): result[0] += 1\n",
    "        elif validHashtag(word): result[1] += 1\n",
    "        elif validLink(word): result[2] += 1\n",
    "    return result"
   ]
  },
  {
   "cell_type": "code",
   "execution_count": null,
   "metadata": {},
   "outputs": [],
   "source": [
    "#This function creates a new DF, char = # or @\n",
    "#dicc is a dictionary, key: @user or #hashtag, value: [number of occurrence, number of true targets]\n",
    "#func1 get the hashtag or user correctly\n",
    "#func2 cheks if the result of func1 is correct\n",
    "#text its a combination of two columns, text and target, the target is in the last position always\n",
    "def dataFrameMaker(text, dicc, char, func1, func2):\n",
    "    text = text.split()\n",
    "    target = int(text[-1])\n",
    "    for word in text:\n",
    "        if char in word:\n",
    "            auxString = func1(word, char)  #auxString could be a @user or a #hashtag\n",
    "            if func2(auxString):\n",
    "                auxString = auxString.lower()\n",
    "                auxList = dicc[auxString] = dicc.get(auxString, [0,0])\n",
    "                auxList[0] += 1\n",
    "                auxList[1] += target"
   ]
  },
  {
   "cell_type": "code",
   "execution_count": null,
   "metadata": {},
   "outputs": [],
   "source": [
    "#Col1: column of the DF to filter\n",
    "#condition: condition to filter\n",
    "#col2: must be of type str\n",
    "#col3: its type will be transform into str\n",
    "#return a Serie with the combination of col2 and col3\n",
    "def colsCombination(col1, condition, col2, col3):\n",
    "        filterCondition = tweetsInfo[col1] > condition\n",
    "        strCol2 = tweetsInfo[filterCondition][col2]\n",
    "        strCol3 = tweetsInfo[filterCondition][col3]\n",
    "        strCol3 = strCol3.astype(str)\n",
    "        result = strCol2 + ' ' + strCol3\n",
    "        return result"
   ]
  },
  {
   "cell_type": "code",
   "execution_count": null,
   "metadata": {},
   "outputs": [],
   "source": [
    "#Gets the hashtag or user\n",
    "def getter(text, char):\n",
    "    pos = text.find(char)\n",
    "    text = text[pos:]\n",
    "    #Some users or hashtags finish with : or .\n",
    "    if text.endswith(':') or text.endswith('.'):\n",
    "        text = text[:-1]\n",
    "    return text"
   ]
  },
  {
   "cell_type": "code",
   "execution_count": null,
   "metadata": {},
   "outputs": [],
   "source": [
    "#Col1: column of the DF to filter\n",
    "#condition: condition to filter\n",
    "#col2: must be of type str\n",
    "#col3: its type will be transform into str\n",
    "#return a Serie with the combination of col2 and col3\n",
    "def colsCombination(col1, condition, col2, col3):\n",
    "        filterCondition = tweetsInfo[col1] > condition\n",
    "        strCol2 = tweetsInfo[filterCondition][col2]\n",
    "        strCol3 = tweetsInfo[filterCondition][col3]\n",
    "        strCol3 = strCol3.astype(str)\n",
    "        result = strCol2 + ' ' + strCol3\n",
    "        return result"
   ]
  },
  {
   "cell_type": "code",
   "execution_count": null,
   "metadata": {},
   "outputs": [],
   "source": [
    "def getInfo(dataList, pos):\n",
    "    return dataList[pos]"
   ]
  },
  {
   "cell_type": "code",
   "execution_count": null,
   "metadata": {},
   "outputs": [],
   "source": [
    "#Aux column to get the result\n",
    "tweetsInfo['aux_column'] = tweetsInfo.text.apply(analyzeTweets)\n",
    "\n",
    "tweetsInfo['users_tagged'] = tweetsInfo.aux_column.apply(getInfo,args=(0,))\n",
    "tweetsInfo['hashtags'] = tweetsInfo.aux_column.apply(getInfo,args=(1,))\n",
    "tweetsInfo['links'] = tweetsInfo.aux_column.apply(getInfo,args=(2,))\n",
    "\n",
    "del tweetsInfo['aux_column']\n",
    "tweetsInfo.head()"
   ]
  },
  {
   "cell_type": "code",
   "execution_count": null,
   "metadata": {},
   "outputs": [],
   "source": [
    "hashtagFrame = tweetsInfo[['tweet_length','hashtags']]\n",
    "hashtagFrame['tweet_element'] = 'hashtag'\n",
    "\n",
    "linksFrame = tweetsInfo[['tweet_length','links']]\n",
    "linksFrame['tweet_element'] = 'link'\n",
    "\n",
    "usersFrame = tweetsInfo[['tweet_length','users_tagged']]\n",
    "usersFrame['tweet_element'] = 'user_tagged'\n",
    "\n",
    "hashtagFrame.rename(columns={'hashtags':'Amount'},inplace=True)\n",
    "linksFrame.rename(columns={'links':'Amount'},inplace=True)\n",
    "usersFrame.rename(columns={'users_tagged':'Amount'},inplace=True)\n",
    "\n",
    "appendedElements = hashtagFrame.append(linksFrame)\n",
    "appendedElements = appendedElements.append(usersFrame)\n",
    "\n",
    "groupedElements = appendedElements.groupby(['tweet_element','Amount']).agg({'tweet_length':['mean','count']})\n",
    "labels0 = groupedElements.columns.get_level_values(0)\n",
    "labels1 = groupedElements.columns.get_level_values(1)\n",
    "groupedElements.columns = labels0 + '_' + labels1\n",
    "groupedElements.reset_index(inplace=True)\n",
    "groupedElements.rename(columns={'tweet_length_count':'occurrence', 'tweet_element':'Tweet element',\\\n",
    "                               'tweet_length_mean':'Average tweet length'}, inplace=True)\n",
    "groupedElements\n",
    "\n",
    "plot = sns.lmplot(x=\"Average tweet length\", y=\"Amount\", col=\"Tweet element\", hue=\"Tweet element\", data=groupedElements, col_wrap=2, ci=None, palette=\"muted\", height=4,\\\n",
    "         scatter_kws={\"s\": 50, \"alpha\": 1},legend = True)\n",
    "\n",
    "# add annotations one by one with a loop\n",
    "auxCont = 0\n",
    "auxDicc = {0:'hashtag',1:'link',2:'user_tagged'}\n",
    "for ax in plot.axes:\n",
    "    element = auxDicc[auxCont]\n",
    "    for line in range(0, groupedElements.shape[0]):\n",
    "            ax.set_yticks([0,2,4,6,8,10,12,14])\n",
    "            if groupedElements['Tweet element'][line] == element:\n",
    "                ax.text(groupedElements['Average tweet length'][line]+0.30, groupedElements.Amount[line], groupedElements.occurrence[line],\\\n",
    "                horizontalalignment='left', size='small', color='black', weight='semibold')\n",
    "    auxCont += 1"
   ]
  },
  {
   "cell_type": "code",
   "execution_count": null,
   "metadata": {},
   "outputs": [],
   "source": [
    "#Links boxplot\n",
    "colors = {0: 'mistyrose', 1: 'salmon', 2: 'indianred', 3: 'firebrick'}\n",
    "linksData = tweetsInfo[['tweet_length','links']][tweetsInfo.links <= 3]\n",
    "ax = sns.boxplot(x = 'links', y = 'tweet_length', data = linksData, palette = colors)\n",
    "ax.set_title('Use of links according to length of tweets',fontsize = 16)\n",
    "ax.set_ylabel('Tweet length (amount of characters)', fontsize = 14)\n",
    "ax.set_xlabel('Number of links per tweet', fontsize = 14);"
   ]
  },
  {
   "cell_type": "code",
   "execution_count": null,
   "metadata": {},
   "outputs": [],
   "source": [
    "#Users tagged boxplot\n",
    "usersTaggedData = tweetsInfo[['tweet_length','users_tagged']][tweetsInfo.users_tagged < 5]\n",
    "ax = sns.boxplot(x = 'users_tagged', y = 'tweet_length', data = usersTaggedData)\n",
    "ax.set_title('Use of tags according to length of tweets',fontsize = 16)\n",
    "ax.set_ylabel('Tweet length (amount of characters)', fontsize = 14)\n",
    "ax.set_xlabel('Number of tags per tweet', fontsize = 14);"
   ]
  },
  {
   "cell_type": "code",
   "execution_count": null,
   "metadata": {},
   "outputs": [],
   "source": [
    "#Building the usersTagged df\n",
    "usersDicc = {}\n",
    "tweetsInfoTags = colsCombination('users_tagged',0,'text','target')\n",
    "tweetsInfoTags.apply(dataFrameMaker, args = (usersDicc,'@',getter,validUser))"
   ]
  },
  {
   "cell_type": "code",
   "execution_count": null,
   "metadata": {},
   "outputs": [],
   "source": [
    "usersSerie = pd.Series(usersDicc)\n",
    "usersDataFrame = usersSerie.to_frame(name='auxCol')\n",
    "usersDataFrame['occurrence'] = usersDataFrame.auxCol.apply(getInfo,args=(0,))\n",
    "usersDataFrame['target_sum'] = usersDataFrame.auxCol.apply(getInfo,args=(1,))\n",
    "del usersDataFrame['auxCol']\n",
    "usersDataFrame.head()"
   ]
  },
  {
   "cell_type": "code",
   "execution_count": null,
   "metadata": {},
   "outputs": [],
   "source": [
    "#Top 10 mentioned users barplot\n",
    "topMentions = usersDataFrame[usersDataFrame.occurrence > 5]\n",
    "topMentionUsers = topMentions.occurrence.nlargest(10).index\n",
    "\n",
    "ax = sns.barplot(x=topMentionUsers, y = topMentions.loc[topMentionUsers,'occurrence'],color='sandybrown',label='All mentions')\n",
    "sns.barplot(x=topMentionUsers, y = topMentions.loc[topMentionUsers,'target_sum'], color='darkorange',label='True tweets')\n",
    "\n",
    "ax.set_title('Top 10: Mentioned users', fontsize=20)\n",
    "ax.set_xlabel('Users', fontsize = 18)\n",
    "ax.set_ylabel('Total mentions', fontsize = 18)\n",
    "ax.set_xticklabels(ax.get_xticklabels(), rotation=90)\n",
    "ax.tick_params(axis=\"both\", labelsize=16)\n",
    "ax.legend(ncol=2, loc='best', frameon=True);\n",
    "ax.figure.set_size_inches(12, 6);"
   ]
  },
  {
   "cell_type": "code",
   "execution_count": null,
   "metadata": {},
   "outputs": [],
   "source": [
    "#Building the hashtags df\n",
    "hashtagsDicc = {}\n",
    "tweetsInfoHashtags = colsCombination('hashtags',0,'text','target')\n",
    "tweetsInfoHashtags.apply(dataFrameMaker, args = (hashtagsDicc,'#',getter,validHashtag))"
   ]
  },
  {
   "cell_type": "code",
   "execution_count": null,
   "metadata": {},
   "outputs": [],
   "source": [
    "hashtagsSerie = pd.Series(hashtagsDicc)\n",
    "hashtagsDataFrame = hashtagsSerie.to_frame(name='auxCol')\n",
    "hashtagsDataFrame['occurrence'] = hashtagsDataFrame.auxCol.apply(getInfo, args=(0,))\n",
    "hashtagsDataFrame['target_sum'] = hashtagsDataFrame.auxCol.apply(getInfo, args=(1,))\n",
    "del hashtagsDataFrame['auxCol']\n",
    "hashtagsDataFrame.head()"
   ]
  },
  {
   "cell_type": "code",
   "execution_count": null,
   "metadata": {},
   "outputs": [],
   "source": [
    "#Trending topics barplot\n",
    "trendingTopics = hashtagsDataFrame[hashtagsDataFrame.occurrence > 5]\n",
    "trendingTopicHashtags = trendingTopics.occurrence.nlargest(10).index\n",
    "\n",
    "ax = sns.barplot(x=trendingTopicHashtags, y = trendingTopics.loc[trendingTopicHashtags,'occurrence'],color='sandybrown',label='Hashtag occurrence')\n",
    "sns.barplot(x=trendingTopicHashtags, y = trendingTopics.loc[trendingTopicHashtags,'target_sum'], color='darkorange',label='True tweets')\n",
    "\n",
    "ax.set_title('Trending topics', fontsize=20)\n",
    "ax.set_xlabel('Hashtags', fontsize = 18)\n",
    "ax.set_ylabel('Total mentions', fontsize = 18)\n",
    "ax.set_xticklabels(ax.get_xticklabels(), rotation=90)\n",
    "ax.tick_params(axis=\"both\", labelsize=16)\n",
    "ax.legend(ncol=2, loc='best', frameon=True)\n",
    "ax.figure.set_size_inches(12, 6);"
   ]
  },
  {
   "cell_type": "code",
   "execution_count": null,
   "metadata": {},
   "outputs": [],
   "source": [
    "grouped = tweetsInfo.groupby('tweet_length').agg({'target':'sum','text':'count','hashtags':'sum','users_tagged':'sum','links':'sum'})\n",
    "grouped['total_elements'] = grouped.links + grouped.hashtags + grouped.users_tagged\n",
    "grouped['truth_percentage'] = (grouped.target / grouped.text) * 100\n",
    "grouped.index.rename('lengths', inplace = True)"
   ]
  },
  {
   "cell_type": "code",
   "execution_count": null,
   "metadata": {},
   "outputs": [],
   "source": [
    "max_quantity, min_quantity = grouped.text.max(), grouped.text.min()\n",
    "max_quantity, min_quantity"
   ]
  },
  {
   "cell_type": "code",
   "execution_count": null,
   "metadata": {},
   "outputs": [],
   "source": [
    "grouped.drop(grouped[grouped.text <= 10].index, inplace=True)\n",
    "grouped.reset_index(inplace = True)\n",
    "grouped.head()"
   ]
  },
  {
   "cell_type": "code",
   "execution_count": null,
   "metadata": {},
   "outputs": [],
   "source": [
    "#Regplot 1\n",
    "ax = sns.regplot(x='lengths', y='truth_percentage', data=grouped,\\\n",
    "                line_kws = {'color':'lightsalmon','alpha':0.5,'lw':3},\\\n",
    "                color = 'brown')\n",
    "\n",
    "ax.set_xlabel('Tweet lengths(amount of characters)', fontsize = 14)\n",
    "ax.set_ylabel('Percentage of veracity (%)', fontsize = 14)\n",
    "ax.set_yticks(np.arange(0,110,10))\n",
    "ax.set_title('Tweet length vs veracity', fontsize=16)\n",
    "ax.figure.set_size_inches(14,4);"
   ]
  },
  {
   "cell_type": "code",
   "execution_count": null,
   "metadata": {},
   "outputs": [],
   "source": [
    "#Natural disasters\n",
    "df1 = pd.read_csv('./ToChangeKeywordsAndLocations/withoutEncoding.csv', usecols=['id','keyword','location'])\n",
    "df2 = tweetsInfo\n",
    "disastersDF = pd.concat([df1,df2], axis = 1)\n",
    "disastersDF.head()"
   ]
  },
  {
   "cell_type": "code",
   "execution_count": null,
   "metadata": {},
   "outputs": [],
   "source": [
    "#Some auxiliar functions\n",
    "def getSeriesElements(serie, setElements):\n",
    "    for element in serie.values: #Element is a string always\n",
    "        if '/' in element:\n",
    "            element = element.split('/')\n",
    "            for elemt in element: setElements.add(elemt.lower())\n",
    "                \n",
    "        else: setElements.add(element.lower())"
   ]
  },
  {
   "cell_type": "code",
   "execution_count": null,
   "metadata": {},
   "outputs": [],
   "source": [
    "#the info is between position 2 and 6, both included\n",
    "def obtainInfo(infoList):\n",
    "    naturalDisasters = {} #Key: group, value: {subgroups}\n",
    "    for i in range (2,7): #To iterate the info in the list\n",
    "        dataFrame = infoList[i]\n",
    "        #Always delete the first row, it dosent have info\n",
    "        dataFrame.drop(0, inplace = True)\n",
    "        #The group always is at (0,1)\n",
    "        group = dataFrame.iloc[0,1]\n",
    "        #Now its time to iterate the columns of the DF\n",
    "        cols = len(dataFrame.columns)\n",
    "        subgroups = set()\n",
    "        for col in range(2, cols):\n",
    "            serie = dataFrame[col] #This is a serie\n",
    "            serie.dropna(inplace=True)\n",
    "            serie.drop_duplicates(inplace=True)\n",
    "            getSeriesElements(serie, subgroups)\n",
    "        naturalDisasters[group] = subgroups\n",
    "    return naturalDisasters"
   ]
  },
  {
   "cell_type": "code",
   "execution_count": null,
   "metadata": {},
   "outputs": [],
   "source": [
    "#Reading the info about natural disasters\n",
    "#naturalDisastersDicc key: group value: set of subgroups\n",
    "dataPage = pd.read_html('https://www.emdat.be/classification')\n",
    "naturalDisastersDicc = obtainInfo(dataPage)"
   ]
  },
  {
   "cell_type": "code",
   "execution_count": null,
   "metadata": {},
   "outputs": [],
   "source": [
    "#Adding missing items\n",
    "geo = naturalDisastersDicc['Geophysical']\n",
    "geo.update({'volcano', 'sinkhole', 'lava'})\n",
    "\n",
    "met = naturalDisastersDicc['Meteorological']\n",
    "met.update({'hurricane','typhoon','twister','cyclone','hailstorm',\\\n",
    "            'violent storm','rainstorm','sandstorm','snowstorm','windstorm'})\n",
    "met -= {'lightning','derecho','sand','wind'}\n",
    "\n",
    "hydro = naturalDisastersDicc['Hydrological']\n",
    "hydro.update({'debris','mudslide','avalanche','rockfall'})\n",
    "hydro.remove('avalanche (snow, debris, mudflow, rockfall)')\n",
    "\n",
    "clima = naturalDisastersDicc['Climatological']\n",
    "clima.update({'bush fire', 'land fire', 'brush fire'})\n",
    "clima.remove('land fire: brush, bush,  pasture')"
   ]
  },
  {
   "cell_type": "code",
   "execution_count": null,
   "metadata": {},
   "outputs": [],
   "source": [
    "#Creating a new set with the union of all the subgroups\n",
    "allNaturalDisasters = set()\n",
    "for value in naturalDisastersDicc.values():\n",
    "    allNaturalDisasters = allNaturalDisasters.union(value)"
   ]
  },
  {
   "cell_type": "code",
   "execution_count": null,
   "metadata": {},
   "outputs": [],
   "source": [
    "#Some keywords are about natural disasters but they are in plural\n",
    "#we fix that whit this function\n",
    "def fixingKeywords(keyword):\n",
    "    auxDictionary = {'floods':'flood', 'wild fires': 'wildfire', 'forest fires':'forest fire',\\\n",
    "                    'bush fires':'bush fire'}\n",
    "    return auxDictionary.get(keyword, keyword)"
   ]
  },
  {
   "cell_type": "code",
   "execution_count": null,
   "metadata": {},
   "outputs": [],
   "source": [
    "disastersDF.keyword = disastersDF.keyword.apply(fixingKeywords)"
   ]
  },
  {
   "cell_type": "code",
   "execution_count": null,
   "metadata": {},
   "outputs": [],
   "source": [
    "condition = ~(disastersDF.keyword.isin(allNaturalDisasters))\n",
    "naturalDisastersDF = disastersDF.drop(disastersDF[condition].index)\n",
    "naturalDisastersDF.head()"
   ]
  },
  {
   "cell_type": "code",
   "execution_count": null,
   "metadata": {},
   "outputs": [],
   "source": [
    "#group by subgroup of natural disaster\n",
    "natDisastGrouped = naturalDisastersDF.groupby('keyword').agg({'tweet_length':['max','min','mean'],\\\n",
    "                                                             'text':'count','target':'sum',\\\n",
    "                                                             'users_tagged':'sum','hashtags':'sum','links':'sum'})\n",
    "natDisastGrouped.head()"
   ]
  },
  {
   "cell_type": "code",
   "execution_count": null,
   "metadata": {},
   "outputs": [],
   "source": [
    "#Changing the labels\n",
    "labels0 = natDisastGrouped.columns.get_level_values(0)\n",
    "labels1 = natDisastGrouped.columns.get_level_values(1)\n",
    "natDisastGrouped.columns = labels0 + '_' + labels1\n",
    "natDisastGrouped.head()"
   ]
  },
  {
   "cell_type": "code",
   "execution_count": null,
   "metadata": {},
   "outputs": [],
   "source": [
    "#Function to obtain the group of a keyword\n",
    "def naturalDisasterGroup(keyword):\n",
    "    for key, value in naturalDisastersDicc.items():\n",
    "        if keyword in value: return key"
   ]
  },
  {
   "cell_type": "code",
   "execution_count": null,
   "metadata": {},
   "outputs": [],
   "source": [
    "natDisastGrouped.reset_index(inplace=True)\n",
    "#Adding the column 'group', to the data frama\n",
    "natDisastGrouped['group'] = natDisastGrouped.keyword.apply(naturalDisasterGroup)"
   ]
  },
  {
   "cell_type": "code",
   "execution_count": null,
   "metadata": {},
   "outputs": [],
   "source": [
    "natDisastGrouped.shape"
   ]
  },
  {
   "cell_type": "code",
   "execution_count": null,
   "metadata": {},
   "outputs": [],
   "source": [
    "natDisastGrouped.rename(columns = {'keyword':'subgroup'},inplace=True)\n",
    "natDisastGrouped.sort_values(by='group',inplace=True)  #easy to order, has 30 rows"
   ]
  },
  {
   "cell_type": "code",
   "execution_count": null,
   "metadata": {},
   "outputs": [],
   "source": [
    "natDisastGrouped.set_index(['group','subgroup'],inplace=True)\n",
    "natDisastGrouped.head()"
   ]
  },
  {
   "cell_type": "code",
   "execution_count": null,
   "metadata": {},
   "outputs": [],
   "source": [
    "#Adding the column 'truth_percentage' = (target_sum / text_count) * 100\n",
    "natDisastGrouped['truth_percentage'] = (natDisastGrouped.target_sum / natDisastGrouped.text_count) * 100\n",
    "natDisastGrouped"
   ]
  },
  {
   "cell_type": "code",
   "execution_count": null,
   "metadata": {},
   "outputs": [],
   "source": [
    "#Veracity of the subgroups\n",
    "subVeracity = natDisastGrouped.reset_index().sort_values(by='truth_percentage',ascending=False)\n",
    "ax = sns.barplot(x = 'truth_percentage', y = subVeracity.subgroup, data = subVeracity);\n",
    "ax.set_title('Natural disasters subgroups: veracity', fontsize=20)\n",
    "ax.set_xlabel('Percentage of veracity(%)', fontsize = 18)\n",
    "ax.set_ylabel('Natural Disasters subgroups', fontsize = 18)\n",
    "ax.tick_params(axis=\"x\", labelsize='large')\n",
    "ax.tick_params(axis=\"x\", labelsize=16)\n",
    "ax.tick_params(axis=\"y\", labelsize=16)\n",
    "ax.set_xticks(np.arange(0,110,10))\n",
    "ax.figure.set_size_inches(10, 8);"
   ]
  },
  {
   "cell_type": "code",
   "execution_count": null,
   "metadata": {},
   "outputs": [],
   "source": [
    "#Parallel coordinates\n",
    "from pandas.plotting import parallel_coordinates\n",
    "df = natDisastGrouped.reset_index().sort_values(by='truth_percentage',ascending=False)[:5].rename(columns={'truth_percentage':'Truth percentage', 'text_count':'Text count',\\\n",
    "                                                                                                           'target_sum':'Target sum','links_sum':'Links sum',\\\n",
    "                                                                                                           'users_tagged_sum':'Users tagged sum','hashtags_sum':'Hashtags sum'})\n",
    "lineColors = ('firebrick','cadetblue','orange','forestgreen','magenta')\n",
    "\n",
    "ax = parallel_coordinates(df, 'subgroup', cols = ['Truth percentage', 'Text count','Target sum','Links sum', 'Users tagged sum','Hashtags sum'],\\\n",
    "                          color = lineColors, lw = 5.0)\n",
    "ax.set_title('Top 5 subgroups: characteristics', fontsize= 16)\n",
    "ax.figure.set_size_inches(16, 8)\n",
    "ax.legend(loc='best');"
   ]
  },
  {
   "cell_type": "code",
   "execution_count": null,
   "metadata": {},
   "outputs": [],
   "source": [
    "#Analysis of kind of hashtags used in tweets based on tweet's veracity"
   ]
  },
  {
   "cell_type": "code",
   "execution_count": null,
   "metadata": {},
   "outputs": [],
   "source": [
    "tweetsInfo = twitterCleanData[['text', 'target']]\n",
    "tweetsInfo.head()"
   ]
  },
  {
   "cell_type": "code",
   "execution_count": null,
   "metadata": {},
   "outputs": [],
   "source": [
    "#Receives a text\n",
    "#Returns a list containing all valid hashtags on the text\n",
    "#A hashtag is valid if it only contains alphanumeric values\n",
    "def getValidHashtags(text, char):\n",
    "    resultingHashtags = []\n",
    "    text = text.split()\n",
    "    for word in text:\n",
    "        hashtag = getter(word, char)\n",
    "        if validHashtag(hashtag) == True:\n",
    "                resultingHashtags.append(hashtag)\n",
    "    return resultingHashtags"
   ]
  },
  {
   "cell_type": "code",
   "execution_count": null,
   "metadata": {},
   "outputs": [],
   "source": [
    "hashtagsDataFrame = hashtagsDataFrame.reset_index()\n",
    "hashtagsDataFrame = hashtagsDataFrame.rename(columns = {'index' : 'hashtag'})\n",
    "hashtagsDataFrame.head()"
   ]
  },
  {
   "cell_type": "code",
   "execution_count": null,
   "metadata": {},
   "outputs": [],
   "source": [
    "textPerVeracity = tweetsInfo.groupby('target').agg({'text' : 'sum'})"
   ]
  },
  {
   "cell_type": "code",
   "execution_count": null,
   "metadata": {},
   "outputs": [],
   "source": [
    "#Returns a DF with hashtags included in tweets of veracity 'target', their occurrence and target_sum\n",
    "#target = 0 -> false tweets\n",
    "#target = 1 -> real tweets\n",
    "def hashtagPerVeracityDFMaker(target, char):\n",
    "    df = pd.DataFrame()\n",
    "    df['hashtag'] = getValidHashtags(textPerVeracity.loc[target,'text'], char)\n",
    "    df = hashtagsDataFrame.merge(df, on = 'hashtag')\n",
    "    df = df.drop_duplicates()\n",
    "    return df"
   ]
  },
  {
   "cell_type": "code",
   "execution_count": null,
   "metadata": {},
   "outputs": [],
   "source": [
    "#Creating DF with hashtags and the veracity of the tweets containing them\n",
    "#Hashtags in false tweets:\n",
    "DFHashtagPerFalseTweets = hashtagPerVeracityDFMaker(0, '#')\n",
    "DFHashtagPerFalseTweets['occurrence'] = DFHashtagPerFalseTweets['occurrence'] - DFHashtagPerFalseTweets['target_sum']\n",
    "del DFHashtagPerFalseTweets['target_sum']\n",
    "top10HashtagPerFalseTweets = DFHashtagPerFalseTweets.nlargest(10, columns = 'occurrence')\n",
    "top10HashtagPerFalseTweets.head(3)"
   ]
  },
  {
   "cell_type": "code",
   "execution_count": null,
   "metadata": {},
   "outputs": [],
   "source": [
    "#Some statistics\n",
    "DFHashtagPerFalseTweets.describe()"
   ]
  },
  {
   "cell_type": "code",
   "execution_count": null,
   "metadata": {},
   "outputs": [],
   "source": [
    "#Bar plot\n",
    "ax = sns.barplot(x = 'hashtag', y = 'occurrence', data = top10HashtagPerFalseTweets,\\\n",
    "                 palette = sns.color_palette(\"Reds_r\", 10))\n",
    "ax.set_xlabel('Hashtags', fontsize = 15)\n",
    "ax.set_ylabel('Occurrence', fontsize = 15)\n",
    "ax.set_title('Top 10 hashtags in false tweets', fontsize = 20)\n",
    "plt.xticks(rotation = 65, horizontalalignment = 'right')\n",
    "ax.figure.set_size_inches(15, 6)\n",
    "plt.tight_layout()\n",
    "ax.get_figure().savefig(\"Top10HashtagsInFalseTweets.png\")"
   ]
  },
  {
   "cell_type": "code",
   "execution_count": null,
   "metadata": {},
   "outputs": [],
   "source": [
    "#Hashtags in real tweets:\n",
    "DFHashtagPerRealTweets = hashtagPerVeracityDFMaker(1, '#')\n",
    "DFHashtagPerRealTweets['occurrence'] = DFHashtagPerRealTweets['target_sum']\n",
    "del DFHashtagPerRealTweets['target_sum']\n",
    "top10HashtagPerRealTweets = DFHashtagPerRealTweets.nlargest(10, 'occurrence')\n",
    "top10HashtagPerRealTweets.head(3)"
   ]
  },
  {
   "cell_type": "code",
   "execution_count": null,
   "metadata": {},
   "outputs": [],
   "source": [
    "#Some statistics\n",
    "DFHashtagPerRealTweets.describe()"
   ]
  },
  {
   "cell_type": "code",
   "execution_count": null,
   "metadata": {},
   "outputs": [],
   "source": [
    "#Bar plot\n",
    "ax = sns.barplot(x = 'hashtag', y = 'occurrence', data = top10HashtagPerRealTweets,\\\n",
    "                 palette = sns.color_palette(\"Greens_r\", 10))\n",
    "ax.set_xlabel('Hashtags', fontsize = 15)\n",
    "ax.set_ylabel('Occurrence', fontsize = 15)\n",
    "ax.set_title('Top 10 hashtags in real tweets', fontsize = 20)\n",
    "plt.xticks(rotation = 65, horizontalalignment = 'right')\n",
    "ax.figure.set_size_inches(15, 6)\n",
    "plt.tight_layout()\n",
    "ax.get_figure().savefig(\"Top10HashtagsInRealTweets.png\")"
   ]
  },
  {
   "cell_type": "code",
   "execution_count": null,
   "metadata": {},
   "outputs": [],
   "source": [
    "#Comparison between hashtags that appear both in real and false tweets\n",
    "hashtagsPerVeracity = DFHashtagPerFalseTweets.merge(DFHashtagPerRealTweets, on = 'hashtag')\n",
    "hashtagsPerVeracity.head(3)"
   ]
  },
  {
   "cell_type": "code",
   "execution_count": null,
   "metadata": {},
   "outputs": [],
   "source": [
    "hashtagsPerVeracity['total occurrence'] = hashtagsPerVeracity['occurrence_x'] + hashtagsPerVeracity['occurrence_y']\n",
    "hashtagsPerVeracity = hashtagsPerVeracity.rename(columns = {'occurrence_y' : 'occurrence real tweets'})\n",
    "del hashtagsPerVeracity['occurrence_x']\n",
    "top10HashtagsPerVeracity = hashtagsPerVeracity.nlargest(20, 'total occurrence')"
   ]
  },
  {
   "cell_type": "code",
   "execution_count": null,
   "metadata": {},
   "outputs": [],
   "source": [
    "hashtagsPerVeracity.describe()"
   ]
  },
  {
   "cell_type": "code",
   "execution_count": null,
   "metadata": {},
   "outputs": [],
   "source": [
    "#Barplot\n",
    "f, ax = plt.subplots(figsize = (15, 8))\n",
    "sns.barplot(x = 'total occurrence', y = 'hashtag', data = top10HashtagsPerVeracity,\\\n",
    "            label = 'Total hashtag occurrence', color = 'indigo', edgecolor = 'w')\n",
    "sns.barplot(x = 'occurrence real tweets', y = 'hashtag', data = top10HashtagsPerVeracity,\n",
    "            label = 'Real tweets hashtag occurrence', color = 'lightgreen', edgecolor = 'w')\n",
    "ax.legend(ncol = 2, loc = 'lower right')\n",
    "ax.set_xlabel('Ocurrence', fontsize = 16)\n",
    "ax.set_ylabel('Hashtag', fontsize = 16)\n",
    "ax.set_title('Top 10 most used hashtags and their relationship with veracity', fontsize = 20)\n",
    "plt.savefig(\"Top10HashtagsAndTheirVeracity.png\")\n",
    "plt.show()"
   ]
  },
  {
   "cell_type": "code",
   "execution_count": null,
   "metadata": {},
   "outputs": [],
   "source": [
    "locations = pd.read_csv('./ToChangeKeywordsAndLocations/worldcities.csv', encoding = 'latin-1')\n",
    "tweets = pd.read_csv('./ToChangeKeywordsAndLocations/withoutEncoding.csv')\n",
    "tweets['country'] = np.nan\n",
    "tweets['lat'] = np.nan\n",
    "tweets['long'] = np.nan"
   ]
  },
  {
   "cell_type": "code",
   "execution_count": null,
   "metadata": {},
   "outputs": [],
   "source": [
    "cities = {}\n",
    "countries = {}\n",
    "cityExceptions = {'London':'United Kingdom','Glasgow':'United Kingdom', 'Birmingham': 'United Kingdom', 'Rome':'Italy','Delhi':'India',\\\n",
    "                 'Paris':'France', 'Moscow':'Russia', 'Geneva':'Switzerland', 'Melbourne':'Australia','Manchester':'United Kingdom','Leicester':'United Kingdom'}\n",
    "states = {}\n",
    "def applyCriteria(row):\n",
    "    if cities.get(row['city'], False) or (cityExceptions.get(row['city'], False) and cityExceptions.get(row['city']) != row['country']):\n",
    "        return row\n",
    "    cities[row['city'].lower().strip('.').rstrip()] = [(row['lat'], row['lng']),row['iso3']]\n",
    "    countries[row['country'].lower().strip('.').rstrip()] = row['iso3']\n",
    "    if ((row['capital'] == 'admin' or row['capital'] == 'primary') and isinstance(row['admin_name'], str)):\n",
    "        states[row['admin_name'].lower().strip('.').rstrip()] = [(row['lat'], row['lng']),row['iso3']]\n",
    "locations.apply(applyCriteria, axis = 1)"
   ]
  },
  {
   "cell_type": "code",
   "execution_count": null,
   "metadata": {},
   "outputs": [],
   "source": [
    "changePlace = {'ny': 'new york', 'la': 'los angeles', 'ca': 'california', 'tx': 'texas', 'us':'usa', 'nc': 'north carolina'}\n",
    "def addNewData(row):\n",
    "    place = row['location']\n",
    "    if place in changePlace:\n",
    "        place = changePlace[place]\n",
    "    if place in countries:\n",
    "        row['country'] = countries[place]\n",
    "    elif place in states:\n",
    "        row['country'] = states[place][1]\n",
    "        row['lat'] = states[place][0][0]\n",
    "        row['long'] = states[place][0][1]\n",
    "    elif place in cities:\n",
    "        row['country'] = cities[place][1]\n",
    "        row['lat'] = cities[place][0][0]\n",
    "        row['long'] = cities[place][0][1]\n",
    "    return row\n",
    "tweets = tweets.apply(addNewData, axis = 1, result_type= 'expand')\n",
    "tweets.tail(30)"
   ]
  },
  {
   "cell_type": "code",
   "execution_count": null,
   "metadata": {},
   "outputs": [],
   "source": [
    "#Geo analysis\n",
    "from shapely.geometry import Point\n",
    "import geopandas as gpd\n",
    "\n",
    "frames = [disastersDF, tweets[['country','lat','long']]]\n",
    "disastersWorldDF = pd.concat(frames, axis = 1)\n",
    "\n",
    "condition = ~(disastersWorldDF.keyword.isin(allNaturalDisasters))\n",
    "natDisastWorldDF = disastersWorldDF.drop(disastersWorldDF[condition].index)#Creating a DF with the natural disasters only\n",
    "\n",
    "#Droping rows with NaNs\n",
    "natDisastWorldDF.dropna(inplace = True)\n",
    "\n",
    "#Creating a new column with the coordinates\n",
    "natDisastWorldDF['coordinates'] = list(zip(natDisastWorldDF['long'],natDisastWorldDF['lat']))\n",
    "natDisastWorldDF['coordinates'] = natDisastWorldDF['coordinates'].apply(Point)\n",
    "natDisastWorldDF.head()"
   ]
  },
  {
   "cell_type": "code",
   "execution_count": null,
   "metadata": {},
   "outputs": [],
   "source": [
    "#Some iso codes are integers\n",
    "def fixISOCode(dataFrame):\n",
    "    dataFrame.loc[43, 'iso_a3'] = 'FRA'\n",
    "    dataFrame.loc[21, 'iso_a3'] = 'NOR'\n",
    "    dataFrame.loc[174, 'iso_a3'] = 'RKS'"
   ]
  },
  {
   "cell_type": "code",
   "execution_count": null,
   "metadata": {},
   "outputs": [],
   "source": [
    "trueNatDisast = natDisastWorldDF[natDisastWorldDF.target == 1]\n",
    "falseNatDisast = natDisastWorldDF[natDisastWorldDF.target == 0]\n",
    "\n",
    "#creating a geopandas data frame\n",
    "trueNatDisast = gpd.GeoDataFrame(trueNatDisast, geometry='coordinates')\n",
    "falseNatDisast = gpd.GeoDataFrame(falseNatDisast, geometry='coordinates')\n",
    "\n",
    "world = gpd.read_file(gpd.datasets.get_path('naturalearth_lowres')) #World map\n",
    "world = world[world.name != 'Antarctica']\n",
    "fixISOCode(world)\n",
    "ax = world.plot(color='lightgrey',edgecolor='black', figsize = (18,10)) #Setting colors\n",
    "\n",
    "graf = trueNatDisast.plot(ax=ax, legend=True, marker='o', color= 'lime', markersize = 45)\n",
    "graf = falseNatDisast.plot(ax=ax, legend=True, marker='x', color='red', markersize = 50)\n",
    "graf.axes.set_title('Tweets about natural disasters over the world', fontsize = 18)\n",
    "graf.legend(['True','False'], title = 'Tweet Veracity');"
   ]
  },
  {
   "cell_type": "code",
   "execution_count": null,
   "metadata": {},
   "outputs": [],
   "source": [
    "#Truth percentage per country\n",
    "disastersWorldDF.dropna(subset = ['country'], inplace = True)\n",
    "groupedCountry = disastersWorldDF.groupby(['country']).agg({'target':'sum','text':'count','hashtags':'sum','users_tagged':'sum','links':'sum'})\n",
    "groupedCountry['truth_percentage'] = (groupedCountry.target / groupedCountry.text) * 100\n",
    "\n",
    "#groupedCountry.rename(columns = {'target':'target_count', 'text':'text_count'}, inplace = True)\n",
    "groupedCountry.reset_index(inplace=True)\n",
    "groupedCountry.rename(columns = {'country':'iso_a3', 'target':'target_count', 'text':'text_count'}, inplace=True)\n",
    "\n",
    "groupedCountry = groupedCountry[groupedCountry.text_count >= 5]"
   ]
  },
  {
   "cell_type": "code",
   "execution_count": null,
   "metadata": {},
   "outputs": [],
   "source": [
    "world = gpd.read_file(gpd.datasets.get_path('naturalearth_lowres'))\n",
    "world = world[world.name != 'Antarctica']\n",
    "fixISOCode(world)\n",
    "ax = world.plot(column = 'name',color='lightgrey',edgecolor='black', figsize = (18,10))\n",
    "world = world.merge(groupedCountry) #Merging the data frame so we have the info\n",
    "\n",
    "#Plot\n",
    "graf = world.plot(ax = ax, column='truth_percentage', legend = True, cmap='Greens',\\\n",
    "                 legend_kwds={'label': 'Percentage of veracity(%)', 'orientation': 'horizontal','extend':'both','extendrect':True})\n",
    "graf.axes.set_title('Percentage of veracity of tweets by country', fontsize = 18);"
   ]
  },
  {
   "cell_type": "code",
   "execution_count": null,
   "metadata": {},
   "outputs": [],
   "source": [
    "#USA geo analysis\n",
    "#Function to find which state a point belongs to\n",
    "def findState(coordinate, statesDF):\n",
    "    iterable = statesDF.values #List of list [state, polygon]\n",
    "    for stateInfo in iterable:\n",
    "        if coordinate.within(stateInfo[1]):\n",
    "            return stateInfo[0]\n",
    "    return np.nan"
   ]
  },
  {
   "cell_type": "code",
   "execution_count": null,
   "metadata": {},
   "outputs": [],
   "source": [
    "import geoplot as gplt\n",
    "usaData = disastersWorldDF[disastersWorldDF.country == 'USA'].dropna()\n",
    "usaData['coordinates'] = list(zip(usaData['long'],usaData['lat']))\n",
    "usaData['coordinates'] = usaData['coordinates'].apply(Point)\n",
    "\n",
    "contiguousUsa = gpd.read_file(gplt.datasets.get_path('contiguous_usa')) #USA map with contiguous states\n",
    "usaData['state'] = usaData.coordinates.apply(findState, args = (contiguousUsa[['state','geometry']],))\n",
    "usaData.dropna(inplace=True)\n",
    "\n",
    "#Grouping per state\n",
    "statesGrouped = usaData.groupby('state').agg({'text':'count', 'target':'sum', 'users_tagged':'sum', 'hashtags':'sum', 'links':'sum',\\\n",
    "                                             'tweet_length':['max','min','mean']})\n",
    "\n",
    "#Renaming the labels\n",
    "labels0 = statesGrouped.columns.get_level_values(0)\n",
    "labels1 = statesGrouped.columns.get_level_values(1)\n",
    "statesGrouped.columns = labels0 + '_' + labels1\n",
    "statesGrouped['truth_percentage'] = (statesGrouped.target_sum / statesGrouped.text_count) * 100\n",
    "statesGrouped = statesGrouped[statesGrouped.text_count >= 5]\n",
    "statesGrouped.reset_index(inplace=True)\n",
    "statesGrouped.head(5)"
   ]
  },
  {
   "cell_type": "code",
   "execution_count": null,
   "metadata": {},
   "outputs": [],
   "source": [
    "#Now we combine that data frame with the contiguousUsa data frame to obtain a geodataframe\n",
    "contiguousUsa = contiguousUsa[['state','geometry']]\n",
    "usaStatesInfo = contiguousUsa.merge(statesGrouped)\n",
    "usaStatesInfo.head(5)"
   ]
  },
  {
   "cell_type": "code",
   "execution_count": null,
   "metadata": {},
   "outputs": [],
   "source": [
    "#Point plot\n",
    "usaData = gpd.GeoDataFrame(usaData, geometry='coordinates')\n",
    "mapUSA = gpd.read_file(gplt.datasets.get_path('contiguous_usa'))\n",
    "ax = mapUSA.plot(color = 'lightgrey', edgecolor= 'lavender', figsize=(12,10))\n",
    "\n",
    "graf = gplt.pointplot(usaData, hue='tweet_length', cmap = 'YlOrRd', legend = True, ax = ax, legend_kwargs={'label': 'Tweet lengths(amount of characters)', 'orientation': 'horizontal'})\n",
    "plt.title('Lengths of tweets about the USA',fontsize = 18);"
   ]
  },
  {
   "cell_type": "code",
   "execution_count": null,
   "metadata": {},
   "outputs": [],
   "source": [
    "#Choropleth\n",
    "ax = mapUSA.plot(color = 'lightgrey', edgecolor= 'lavender', figsize=(12,10))\n",
    "graf = gplt.choropleth(usaStatesInfo, hue='truth_percentage', cmap='YlOrRd', legend=True,ax=ax,legend_kwargs={'label': 'Percentage of veracity(%)', 'orientation': 'horizontal',\\\n",
    "                                                                                                             'extend':'both','extendrect':True})\n",
    "plt.title('Tweets veracity per State',fontsize = 18);"
   ]
  },
  {
   "cell_type": "code",
   "execution_count": null,
   "metadata": {},
   "outputs": [],
   "source": [
    "wordsCount = pd.read_csv('./ToChangeKeywordsAndLocations/wordCount.csv', encoding = 'latin-1')\n",
    "tweets = pd.read_csv('./ToChangeKeywordsAndLocations/withoutEncoding.csv', usecols = ['id','target'])"
   ]
  },
  {
   "cell_type": "code",
   "execution_count": null,
   "metadata": {},
   "outputs": [],
   "source": [
    "wordsCount = wordsCount.merge(tweets)\n",
    "wordsCount.drop(['id','totalAmount'], inplace = True, axis = 1)"
   ]
  },
  {
   "cell_type": "code",
   "execution_count": null,
   "metadata": {},
   "outputs": [],
   "source": [
    "wordsCount.amountOfVerbs.value_counts()"
   ]
  },
  {
   "cell_type": "code",
   "execution_count": null,
   "metadata": {},
   "outputs": [],
   "source": [
    "wordsCount.amountOfAdjectives.value_counts()"
   ]
  },
  {
   "cell_type": "code",
   "execution_count": null,
   "metadata": {},
   "outputs": [],
   "source": [
    "wordsCount.amountOfAdverbs.value_counts()"
   ]
  },
  {
   "cell_type": "code",
   "execution_count": null,
   "metadata": {},
   "outputs": [],
   "source": [
    "wordsCount.amountOfNouns.value_counts()"
   ]
  },
  {
   "cell_type": "code",
   "execution_count": null,
   "metadata": {},
   "outputs": [],
   "source": [
    "wordsCount.restOfWords.value_counts()"
   ]
  },
  {
   "cell_type": "code",
   "execution_count": null,
   "metadata": {},
   "outputs": [],
   "source": [
    "verbs = wordsCount[wordsCount.amountOfVerbs == 7]\n",
    "verbs"
   ]
  },
  {
   "cell_type": "code",
   "execution_count": null,
   "metadata": {},
   "outputs": [],
   "source": [
    "verbsSerie = wordsCount[wordsCount['amountOfVerbs'] == 7].tail(100).applymap(lambda x: x/7).sum()\n",
    "verbsSerie.target *= 7\n",
    "\n",
    "pronounsSerie = wordsCount[wordsCount['amountOfPronouns'] == 4].tail(100).applymap(lambda x: x/4).sum()\n",
    "pronounsSerie.target *= 4\n",
    "\n",
    "nounsSerie = wordsCount[wordsCount['amountOfNouns'] == 14].tail(100).applymap(lambda x: x/14).sum()\n",
    "nounsSerie.target *= 14\n",
    "\n",
    "adjectivesSerie = wordsCount[wordsCount['amountOfAdjectives'] == 3].tail(100).applymap(lambda x: x/3).sum()\n",
    "adjectivesSerie.target *= 3\n",
    "\n",
    "adverbsSerie = wordsCount[wordsCount['amountOfAdverbs'] == 4].tail(100).applymap(lambda x: x/4).sum()\n",
    "adverbsSerie.target *= 4\n",
    "\n",
    "restOfWordsSerie = wordsCount[wordsCount['restOfWords'] == 10].tail(100).applymap(lambda x: x/10).sum()\n",
    "restOfWordsSerie.target *= 10"
   ]
  },
  {
   "cell_type": "code",
   "execution_count": null,
   "metadata": {},
   "outputs": [],
   "source": [
    "finalDF = pd.concat([verbsSerie.to_frame().T, pronounsSerie.to_frame().T, nounsSerie.to_frame().T, adjectivesSerie.to_frame().T,\\\n",
    "          adverbsSerie.to_frame().T,restOfWordsSerie.to_frame().T])\n",
    "finalDF.reset_index(inplace=True)\n",
    "finalDF.drop('index', inplace = True, axis = 1)\n",
    "finalDF.rename(columns = {'target':'Target sum'}, inplace = True)"
   ]
  },
  {
   "cell_type": "code",
   "execution_count": null,
   "metadata": {},
   "outputs": [],
   "source": [
    "finalDF"
   ]
  },
  {
   "cell_type": "code",
   "execution_count": null,
   "metadata": {},
   "outputs": [],
   "source": [
    "from math import pi\n",
    " \n",
    "# Set data\n",
    "df = pd.DataFrame({\n",
    "'group': ['A','B','C','D'],\n",
    "'var1': [38, 1.5, 30, 4],\n",
    "'var2': [29, 10, 9, 34],\n",
    "'var3': [8, 39, 23, 24],\n",
    "'var4': [7, 31, 33, 14],\n",
    "'var5': [28, 15, 32, 14]\n",
    "})\n",
    "\n",
    "categories = list(finalDF)\n",
    "N = len(categories)\n",
    " \n",
    "angles = [n / float(N) * 2 * pi for n in range(N)]\n",
    "angles += angles[:1]\n",
    " \n",
    "# Initialise the spider plot\n",
    "ax = plt.subplot(111, polar=True)\n",
    " \n",
    "# If you want the first axis to be on top:\n",
    "ax.set_theta_offset(pi / 2)\n",
    "ax.set_theta_direction(-1)\n",
    " \n",
    "# Draw one axe per variable + add labels labels yet\n",
    "plt.xticks(angles[:-1], categories)\n",
    " \n",
    "# Draw ylabels\n",
    "ax.set_rlabel_position(0)\n",
    "plt.yticks([10,20,30], [\"10\",\"20\",\"30\"], color=\"grey\", size=7)\n",
    "plt.ylim(0,100)\n",
    "\n",
    "values = finalDF.loc[0].values.flatten().tolist()\n",
    "values += values[:1]\n",
    "ax.plot(angles, values, linewidth=1, linestyle='solid', label=\"group A\")\n",
    "#ax.fill(angles, values, 'b', alpha=0.1)\n",
    " \n",
    "# Ind2\n",
    "values=finalDF.loc[1].values.flatten().tolist()\n",
    "values += values[:1]\n",
    "ax.plot(angles, values, linewidth=1, linestyle='solid', label=\"group B\")\n",
    "#ax.fill(angles, values, 'r', alpha=0.1)\n",
    "\n",
    "# Ind2\n",
    "values=finalDF.loc[2].values.flatten().tolist()\n",
    "values += values[:1]\n",
    "ax.plot(angles, values, linewidth=1, linestyle='solid', label=\"group C\")\n",
    "#ax.fill(angles, values, 'g', alpha=0.1)\n",
    "\n",
    "# Ind2\n",
    "values=finalDF.loc[3].values.flatten().tolist()\n",
    "values += values[:1]\n",
    "ax.plot(angles, values, linewidth=1, linestyle='solid', label=\"group D\")\n",
    "#ax.fill(angles, values, 'k', alpha=0.8)\n",
    " \n",
    "# Add legend\n",
    "plt.legend(loc='upper right', bbox_to_anchor=(0.1, 0.1))\n"
   ]
  },
  {
   "cell_type": "code",
   "execution_count": null,
   "metadata": {},
   "outputs": [],
   "source": [
    "finalDF.loc[0].values.flatten().tolist()"
   ]
  }
 ],
 "metadata": {
  "kernelspec": {
   "display_name": "Python 3",
   "language": "python",
   "name": "python3"
  },
  "language_info": {
   "codemirror_mode": {
    "name": "ipython",
    "version": 3
   },
   "file_extension": ".py",
   "mimetype": "text/x-python",
   "name": "python",
   "nbconvert_exporter": "python",
   "pygments_lexer": "ipython3",
   "version": "3.7.6"
  }
 },
 "nbformat": 4,
 "nbformat_minor": 4
}
