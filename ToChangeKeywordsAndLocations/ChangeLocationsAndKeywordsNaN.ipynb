{
 "cells": [
  {
   "cell_type": "code",
   "execution_count": 117,
   "metadata": {},
   "outputs": [],
   "source": [
    "import pandas as pd\n",
    "import numpy as np\n",
    "import seaborn as sns\n",
    "import matplotlib.pyplot as plt\n",
    "keywordSet = set()\n",
    "citiesSet = set()\n",
    "countriesSet = set()\n",
    "locationsSet = set()"
   ]
  },
  {
   "cell_type": "code",
   "execution_count": 118,
   "metadata": {},
   "outputs": [],
   "source": [
    "def CorrectString(setWithPossibleKeywords, text, considerHashtag):\n",
    "    word = 'Unknown'\n",
    "    for each in setWithPossibleKeywords:\n",
    "        if (each.lower() in text.lower()):\n",
    "            word = each;\n",
    "            break\n",
    "    if (considerHashtag and word == 'Unknown'):\n",
    "        for each in text.split():\n",
    "            if (each.startswith('#')):\n",
    "                word = each.lstrip('#')\n",
    "    return word"
   ]
  },
  {
   "cell_type": "code",
   "execution_count": 119,
   "metadata": {},
   "outputs": [],
   "source": [
    "def fixMissingFields(setWithPossibleKeywords, dataframe, nameOfColumnWithParamMissing = 'keyword', nameOfPlaceWithText = 'text', useHashtag = True): \n",
    "    for index, row in dataframe.iterrows():\n",
    "        if (isinstance(row[nameOfColumnWithParamMissing], str)):\n",
    "            continue\n",
    "        dataframe.loc[index, nameOfColumnWithParamMissing] = CorrectString(setWithPossibleKeywords, row[nameOfPlaceWithText], useHashtag)\n"
   ]
  },
  {
   "cell_type": "code",
   "execution_count": 120,
   "metadata": {},
   "outputs": [],
   "source": [
    "def addToSet(nameOfSet, dataFrameRows):\n",
    "    for each in dataFrameRows:\n",
    "        if (each == '' or each.isspace()):\n",
    "            continue\n",
    "        nameOfSet.add(each.lstrip().rstrip())"
   ]
  },
  {
   "cell_type": "code",
   "execution_count": 121,
   "metadata": {},
   "outputs": [],
   "source": [
    "#Define the sets and texts\n",
    "tweets = pd.read_csv('train.csv', encoding = 'latin-1')\n",
    "dfWithKeywords = tweets.dropna(subset=['keyword'])\n",
    "dfWithLocations = tweets.dropna(subset=['location'])\n",
    "locations = pd.read_csv('worldcities.csv', encoding = 'latin-1')\n",
    "addToSet(keywordSet, dfWithKeywords['keyword'])\n",
    "addToSet(locationsSet, dfWithLocations['location'])\n",
    "addToSet(citiesSet, locations['city'])\n",
    "addToSet(countriesSet, locations['country'])\n",
    "arrayWithSets = [locationsSet, citiesSet, countriesSet]"
   ]
  },
  {
   "cell_type": "code",
   "execution_count": 122,
   "metadata": {},
   "outputs": [],
   "source": [
    "#Fix missing fields\n",
    "fixMissingKeywords(keywordSet, tweets)\n",
    "for eachSet in arrayWithSets:\n",
    "    fixMissingKeywords(eachSet, tweets, 'location', 'text', False)"
   ]
  },
  {
   "cell_type": "code",
   "execution_count": 125,
   "metadata": {},
   "outputs": [
    {
     "data": {
      "text/plain": [
       "0       earthquake\n",
       "1             fire\n",
       "2       evacuation\n",
       "3       evacuation\n",
       "4         wildfire\n",
       "           ...    \n",
       "7608      collapse\n",
       "7609          fire\n",
       "7610       volcano\n",
       "7611        police\n",
       "7612      wildfire\n",
       "Name: keyword, Length: 7613, dtype: object"
      ]
     },
     "execution_count": 125,
     "metadata": {},
     "output_type": "execute_result"
    }
   ],
   "source": [
    "tweets['keyword']"
   ]
  }
 ],
 "metadata": {
  "kernelspec": {
   "display_name": "Python 3",
   "language": "python",
   "name": "python3"
  },
  "language_info": {
   "codemirror_mode": {
    "name": "ipython",
    "version": 3
   },
   "file_extension": ".py",
   "mimetype": "text/x-python",
   "name": "python",
   "nbconvert_exporter": "python",
   "pygments_lexer": "ipython3",
   "version": "3.7.3"
  }
 },
 "nbformat": 4,
 "nbformat_minor": 2
}
