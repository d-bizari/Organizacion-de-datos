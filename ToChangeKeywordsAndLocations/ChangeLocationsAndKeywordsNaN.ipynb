{
 "cells": [
  {
   "cell_type": "code",
   "execution_count": null,
   "metadata": {},
   "outputs": [],
   "source": [
    "import pandas as pd\n",
    "import numpy as np\n",
    "import seaborn as sns\n",
    "import matplotlib.pyplot as plt\n",
    "import re\n",
    "keywordSet = set()\n",
    "citiesSet = set()\n",
    "countriesSet = set()\n",
    "locationsSet = set()\n",
    "arrayWithMinorKeywords = set()"
   ]
  },
  {
   "cell_type": "code",
   "execution_count": null,
   "metadata": {},
   "outputs": [],
   "source": [
    "def CorrectString(setWithPossibleKeywords, text, considerHashtag):\n",
    "    word = 'Unknown'\n",
    "    for each in setWithPossibleKeywords:\n",
    "        if (re.search('(^|\\s|#)' + re.escape(each) + '(?!\\S)' , text, re.IGNORECASE)):\n",
    "            word = each;\n",
    "            break\n",
    "    if (considerHashtag and word == 'Unknown'):\n",
    "        for each in text.split():\n",
    "            if (each.startswith('#')):\n",
    "                word = each.lstrip('#')\n",
    "    return word.lower()"
   ]
  },
  {
   "cell_type": "code",
   "execution_count": null,
   "metadata": {},
   "outputs": [],
   "source": [
    "def fixMissingFields(arrayWithSets, dataframe, nameOfColumnWithParamMissing = 'keyword', nameOfPlaceWithText = 'text', useHashtag = True, writeUnknown = True): \n",
    "    for index, row in dataframe.iterrows():\n",
    "        if (isinstance(row[nameOfColumnWithParamMissing], str)):\n",
    "            dataframe.loc[index, nameOfColumnWithParamMissing] = row[nameOfColumnWithParamMissing].lower().rstrip().lstrip().replace('%20', ' ')\n",
    "            continue\n",
    "        for i in range(len(arrayWithSets)):\n",
    "            startWritingUnknown = False\n",
    "            startUsingHashtag = False\n",
    "            if (i == len(arrayWithSets) - 1):\n",
    "                startWritingUnknown = writeUnknown\n",
    "                startUsingHashtag = useHashtag\n",
    "            wordToPlace = CorrectString(arrayWithSets[i], row[nameOfPlaceWithText], startUsingHashtag)\n",
    "            if (wordToPlace != 'unknown' or startWritingUnknown):\n",
    "                dataframe.loc[index, nameOfColumnWithParamMissing] = wordToPlace\n",
    "                break\n"
   ]
  },
  {
   "cell_type": "code",
   "execution_count": null,
   "metadata": {},
   "outputs": [],
   "source": [
    "def addToSet(nameOfSet, dataFrameRows):\n",
    "    for each in dataFrameRows:\n",
    "        if (each == '' or each.isspace()):\n",
    "            continue\n",
    "        nameOfSet.add(each.lower().replace('%20', ' ').lstrip().rstrip())"
   ]
  },
  {
   "cell_type": "code",
   "execution_count": null,
   "metadata": {},
   "outputs": [],
   "source": [
    "#Define the sets and texts\n",
    "tweets = pd.read_csv('train.csv')\n",
    "dfWithKeywords = tweets.dropna(subset=['keyword'])\n",
    "dfWithLocations = tweets.dropna(subset=['location'])\n",
    "locations = pd.read_csv('worldcities.csv', encoding = 'latin-1')\n",
    "addToSet(keywordSet, dfWithKeywords['keyword'])\n",
    "addToSet(locationsSet, dfWithLocations['location'])\n",
    "addToSet(citiesSet, locations['city'])\n",
    "addToSet(countriesSet, locations['country'])\n",
    "arrayWithSets = [locationsSet, citiesSet, countriesSet]\n",
    "locationsSet.remove('on')\n",
    "locationsSet.remove('in')\n",
    "l =[]\n",
    "for each in locationsSet:\n",
    "    if (len(each.strip('?')) < 2):\n",
    "        l.append(each)\n",
    "for each in l:\n",
    "    locationsSet.remove(each)\n",
    "for value in keywordSet:\n",
    "    for key in keywordSet:\n",
    "        if (value == key):\n",
    "            continue\n",
    "        if value in key:\n",
    "            arrayWithMinorKeywords.add(value)\n",
    "            break\n",
    "for value in arrayWithMinorKeywords:\n",
    "    keywordSet.remove(value)\n",
    "    "
   ]
  },
  {
   "cell_type": "code",
   "execution_count": null,
   "metadata": {},
   "outputs": [],
   "source": [
    "#Fix missing fields\n",
    "fixMissingFields([keywordSet, arrayWithMinorKeywords], tweets, useHashtag=False, writeUnknown = True)\n",
    "fixMissingFields(arrayWithSets, tweets, 'location', 'text', False)"
   ]
  },
  {
   "cell_type": "code",
   "execution_count": null,
   "metadata": {},
   "outputs": [],
   "source": [
    "tweets.to_csv('withoutEncoding.csv', index = False) #Used to save a csv with that name at the folder where this file is"
   ]
  }
 ],
 "metadata": {
  "kernelspec": {
   "display_name": "Python 3",
   "language": "python",
   "name": "python3"
  },
  "language_info": {
   "codemirror_mode": {
    "name": "ipython",
    "version": 3
   },
   "file_extension": ".py",
   "mimetype": "text/x-python",
   "name": "python",
   "nbconvert_exporter": "python",
   "pygments_lexer": "ipython3",
   "version": "3.7.3"
  }
 },
 "nbformat": 4,
 "nbformat_minor": 2
}
