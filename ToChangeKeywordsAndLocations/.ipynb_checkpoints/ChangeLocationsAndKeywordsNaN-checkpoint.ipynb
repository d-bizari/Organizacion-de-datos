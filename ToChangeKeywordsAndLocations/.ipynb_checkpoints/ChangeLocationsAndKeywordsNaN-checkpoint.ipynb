{
 "cells": [
  {
   "cell_type": "code",
   "execution_count": 172,
   "metadata": {},
   "outputs": [],
   "source": [
    "import pandas as pd\n",
    "import numpy as np\n",
    "import seaborn as sns\n",
    "import matplotlib.pyplot as plt\n",
    "keywordSet = set()\n",
    "citiesSet = set()\n",
    "countriesSet = set()\n",
    "locationsSet = set()\n",
    "arrayWithMinorKeywords = set()"
   ]
  },
  {
   "cell_type": "code",
   "execution_count": 173,
   "metadata": {},
   "outputs": [],
   "source": [
    "def CorrectString(setWithPossibleKeywords, text, considerHashtag):\n",
    "    word = 'Unknown'\n",
    "    for each in setWithPossibleKeywords:\n",
    "        if (each in text.lower()):\n",
    "            word = each;\n",
    "            break\n",
    "    if (considerHashtag and word == 'Unknown'):\n",
    "        for each in text.split():\n",
    "            if (each.startswith('#')):\n",
    "                word = each.lstrip('#')\n",
    "    return word.lower()"
   ]
  },
  {
   "cell_type": "code",
   "execution_count": 174,
   "metadata": {},
   "outputs": [],
   "source": [
    "def fixMissingFields(arrayWithSets, dataframe, nameOfColumnWithParamMissing = 'keyword', nameOfPlaceWithText = 'text', useHashtag = True, writeUnknown = True): \n",
    "    for index, row in dataframe.iterrows():\n",
    "        if (isinstance(row[nameOfColumnWithParamMissing], str)):\n",
    "            dataframe.loc[index, nameOfColumnWithParamMissing] = row[nameOfColumnWithParamMissing].lower().rstrip().lstrip().replace('%20', ' ')\n",
    "            continue\n",
    "        for i in range(len(arrayWithSets)):\n",
    "            startWritingUnknown = False\n",
    "            startUsingHashtag = False\n",
    "            if (i == len(arrayWithSets) - 1):\n",
    "                startWritingUnknown = writeUnknown\n",
    "                startUsingHashtag = useHashtag\n",
    "            wordToPlace = CorrectString(arrayWithSets[i], row[nameOfPlaceWithText], startUsingHashtag)\n",
    "            if (wordToPlace != 'unknown' or startWritingUnknown):\n",
    "                dataframe.loc[index, nameOfColumnWithParamMissing] = wordToPlace\n",
    "                break\n"
   ]
  },
  {
   "cell_type": "code",
   "execution_count": 175,
   "metadata": {},
   "outputs": [],
   "source": [
    "def addToSet(nameOfSet, dataFrameRows):\n",
    "    for each in dataFrameRows:\n",
    "        if (each == '' or each.isspace()):\n",
    "            continue\n",
    "        nameOfSet.add(each.lower().replace('%20', ' ').lstrip().rstrip())"
   ]
  },
  {
   "cell_type": "code",
   "execution_count": 180,
   "metadata": {},
   "outputs": [],
   "source": [
    "#Define the sets and texts\n",
    "tweets = pd.read_csv('train.csv', encoding = 'latin-1')\n",
    "dfWithKeywords = tweets.dropna(subset=['keyword'])\n",
    "dfWithLocations = tweets.dropna(subset=['location'])\n",
    "locations = pd.read_csv('worldcities.csv', encoding = 'latin-1')\n",
    "addToSet(keywordSet, dfWithKeywords['keyword'])\n",
    "addToSet(locationsSet, dfWithLocations['location'])\n",
    "addToSet(citiesSet, locations['city'])\n",
    "addToSet(countriesSet, locations['country'])\n",
    "arrayWithSets = [locationsSet, citiesSet, countriesSet]\n",
    "locationsSet.remove('on')\n",
    "locationsSet.remove('in')\n",
    "l =[]\n",
    "for each in locationsSet:\n",
    "    if (len(each.strip('?')) < 2):\n",
    "        l.append(each)\n",
    "for each in l:\n",
    "    locationsSet.remove(each)\n",
    "for value in keywordSet:\n",
    "    for key in keywordSet:\n",
    "        if (value == key):\n",
    "            continue\n",
    "        if value in key:\n",
    "            arrayWithMinorKeywords.add(value)\n",
    "            break\n",
    "for value in arrayWithMinorKeywords:\n",
    "    keywordSet.remove(value)\n",
    "    "
   ]
  },
  {
   "cell_type": "code",
   "execution_count": 177,
   "metadata": {},
   "outputs": [],
   "source": [
    "#Fix missing fields\n",
    "fixMissingFields([keywordSet, arrayWithMinorKeywords], tweets, useHashtag=False, writeUnknown = False)\n",
    "fixMissingFields(arrayWithSets, tweets, 'location', 'text', False)"
   ]
  },
  {
   "cell_type": "code",
   "execution_count": 179,
   "metadata": {},
   "outputs": [
    {
     "data": {
      "text/plain": [
       "la                          402\n",
       "ma                          223\n",
       "mi                          196\n",
       "va                          125\n",
       "fl                          123\n",
       "                           ... \n",
       "253                           1\n",
       "nap central                   1\n",
       "qosqo                         1\n",
       "have car; will travel         1\n",
       "tractor land aka bristol      1\n",
       "Name: location, Length: 3203, dtype: int64"
      ]
     },
     "execution_count": 179,
     "metadata": {},
     "output_type": "execute_result"
    }
   ],
   "source": [
    "tweets['location'].value_counts()"
   ]
  },
  {
   "cell_type": "code",
   "execution_count": 181,
   "metadata": {},
   "outputs": [
    {
     "data": {
      "text/plain": [
       "USA                            104\n",
       "New York                        71\n",
       "United States                   50\n",
       "London                          45\n",
       "Canada                          29\n",
       "                              ... \n",
       " Quantico Marine Base, VA.       1\n",
       "Deployed in the Middle East      1\n",
       "??+ ... ??+                      1\n",
       "Purfleet                         1\n",
       "Danville, VA                     1\n",
       "Name: location, Length: 3341, dtype: int64"
      ]
     },
     "execution_count": 181,
     "metadata": {},
     "output_type": "execute_result"
    }
   ],
   "source": [
    "tweets['location'].value_counts()"
   ]
  }
 ],
 "metadata": {
  "kernelspec": {
   "display_name": "Python 3",
   "language": "python",
   "name": "python3"
  },
  "language_info": {
   "codemirror_mode": {
    "name": "ipython",
    "version": 3
   },
   "file_extension": ".py",
   "mimetype": "text/x-python",
   "name": "python",
   "nbconvert_exporter": "python",
   "pygments_lexer": "ipython3",
   "version": "3.7.3"
  }
 },
 "nbformat": 4,
 "nbformat_minor": 2
}
